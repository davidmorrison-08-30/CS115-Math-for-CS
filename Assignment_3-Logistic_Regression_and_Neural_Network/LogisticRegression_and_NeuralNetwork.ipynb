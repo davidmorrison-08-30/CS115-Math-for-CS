{
  "nbformat": 4,
  "nbformat_minor": 0,
  "metadata": {
    "colab": {
      "provenance": [],
      "collapsed_sections": [
        "cbzPBxBL5iHa"
      ]
    },
    "kernelspec": {
      "name": "python3",
      "display_name": "Python 3"
    },
    "language_info": {
      "name": "python"
    },
    "accelerator": "GPU",
    "gpuClass": "standard"
  },
  "cells": [
    {
      "cell_type": "markdown",
      "source": [
        "### MNIST Dataset"
      ],
      "metadata": {
        "id": "JI8UIvkh5IQz"
      }
    },
    {
      "cell_type": "code",
      "source": [
        "import torch\n",
        "from torch.utils.data import DataLoader\n",
        "import torchvision.datasets as datasets\n",
        "import torchvision.transforms as transforms"
      ],
      "metadata": {
        "id": "JP7PLCNyyv3T"
      },
      "execution_count": 1,
      "outputs": []
    },
    {
      "cell_type": "code",
      "source": [
        "train_dataset = datasets.MNIST(root='/content/drive/MyDrive/CSBU014.N11.KHBC/Logistic_Regression/datasets',\n",
        "                               train=True,\n",
        "                               transform=transforms.ToTensor(),\n",
        "                               download=True)"
      ],
      "metadata": {
        "id": "uIUOXFZyMU7K"
      },
      "execution_count": 2,
      "outputs": []
    },
    {
      "cell_type": "code",
      "source": [
        "test_dataset = datasets.MNIST(root='/content/drive/MyDrive/CSBU014.N11.KHBC/Logistic_Regression/datasets',\n",
        "                              train=False,\n",
        "                              transform=transforms.ToTensor(),\n",
        "                              download=True)"
      ],
      "metadata": {
        "id": "PznFK2cMqrvM"
      },
      "execution_count": 3,
      "outputs": []
    },
    {
      "cell_type": "code",
      "source": [
        "train_dataset[2]"
      ],
      "metadata": {
        "colab": {
          "base_uri": "https://localhost:8080/"
        },
        "id": "ycdjLugEgSIx",
        "outputId": "a3c02cf6-f337-4e7b-a628-76850e98d03b"
      },
      "execution_count": 4,
      "outputs": [
        {
          "output_type": "execute_result",
          "data": {
            "text/plain": [
              "(tensor([[[0.0000, 0.0000, 0.0000, 0.0000, 0.0000, 0.0000, 0.0000, 0.0000,\n",
              "           0.0000, 0.0000, 0.0000, 0.0000, 0.0000, 0.0000, 0.0000, 0.0000,\n",
              "           0.0000, 0.0000, 0.0000, 0.0000, 0.0000, 0.0000, 0.0000, 0.0000,\n",
              "           0.0000, 0.0000, 0.0000, 0.0000],\n",
              "          [0.0000, 0.0000, 0.0000, 0.0000, 0.0000, 0.0000, 0.0000, 0.0000,\n",
              "           0.0000, 0.0000, 0.0000, 0.0000, 0.0000, 0.0000, 0.0000, 0.0000,\n",
              "           0.0000, 0.0000, 0.0000, 0.0000, 0.0000, 0.0000, 0.0000, 0.0000,\n",
              "           0.0000, 0.0000, 0.0000, 0.0000],\n",
              "          [0.0000, 0.0000, 0.0000, 0.0000, 0.0000, 0.0000, 0.0000, 0.0000,\n",
              "           0.0000, 0.0000, 0.0000, 0.0000, 0.0000, 0.0000, 0.0000, 0.0000,\n",
              "           0.0000, 0.0000, 0.0000, 0.0000, 0.0000, 0.0000, 0.0000, 0.0000,\n",
              "           0.0000, 0.0000, 0.0000, 0.0000],\n",
              "          [0.0000, 0.0000, 0.0000, 0.0000, 0.0000, 0.0000, 0.0000, 0.0000,\n",
              "           0.0000, 0.0000, 0.0000, 0.0000, 0.0000, 0.0000, 0.0000, 0.0000,\n",
              "           0.0000, 0.0000, 0.0000, 0.0000, 0.0000, 0.0000, 0.0000, 0.0000,\n",
              "           0.0000, 0.0000, 0.0000, 0.0000],\n",
              "          [0.0000, 0.0000, 0.0000, 0.0000, 0.0000, 0.0000, 0.0000, 0.0000,\n",
              "           0.0000, 0.0000, 0.0000, 0.0000, 0.0000, 0.0000, 0.0000, 0.0000,\n",
              "           0.0000, 0.0000, 0.0000, 0.0000, 0.0000, 0.0000, 0.0000, 0.0000,\n",
              "           0.0000, 0.0000, 0.0000, 0.0000],\n",
              "          [0.0000, 0.0000, 0.0000, 0.0000, 0.0000, 0.0000, 0.0000, 0.0000,\n",
              "           0.0000, 0.0000, 0.0000, 0.0000, 0.0000, 0.0000, 0.0000, 0.0000,\n",
              "           0.0000, 0.0000, 0.0000, 0.0000, 0.2627, 0.9098, 0.1529, 0.0000,\n",
              "           0.0000, 0.0000, 0.0000, 0.0000],\n",
              "          [0.0000, 0.0000, 0.0000, 0.0000, 0.2431, 0.3176, 0.0000, 0.0000,\n",
              "           0.0000, 0.0000, 0.0000, 0.0000, 0.0000, 0.0000, 0.0000, 0.0000,\n",
              "           0.0000, 0.0000, 0.0000, 0.0000, 0.4706, 0.7059, 0.1529, 0.0000,\n",
              "           0.0000, 0.0000, 0.0000, 0.0000],\n",
              "          [0.0000, 0.0000, 0.0000, 0.0000, 0.4941, 0.6392, 0.0000, 0.0000,\n",
              "           0.0000, 0.0000, 0.0000, 0.0000, 0.0000, 0.0000, 0.0000, 0.0000,\n",
              "           0.0000, 0.0000, 0.0000, 0.0078, 0.6000, 0.8235, 0.1569, 0.0000,\n",
              "           0.0000, 0.0000, 0.0000, 0.0000],\n",
              "          [0.0000, 0.0000, 0.0000, 0.0000, 0.8627, 0.6392, 0.0000, 0.0000,\n",
              "           0.0000, 0.0000, 0.0000, 0.0000, 0.0000, 0.0000, 0.0000, 0.0000,\n",
              "           0.0000, 0.0000, 0.0000, 0.1059, 0.9961, 0.6353, 0.0000, 0.0000,\n",
              "           0.0000, 0.0000, 0.0000, 0.0000],\n",
              "          [0.0000, 0.0000, 0.0000, 0.0000, 0.8706, 0.6392, 0.0000, 0.0000,\n",
              "           0.0000, 0.0000, 0.0000, 0.0000, 0.0000, 0.0000, 0.0000, 0.0000,\n",
              "           0.0000, 0.0000, 0.0000, 0.7176, 0.9961, 0.4902, 0.0000, 0.0000,\n",
              "           0.0000, 0.0000, 0.0000, 0.0000],\n",
              "          [0.0000, 0.0000, 0.0000, 0.1804, 0.9608, 0.6392, 0.0000, 0.0000,\n",
              "           0.0000, 0.0000, 0.0000, 0.0000, 0.0000, 0.0000, 0.0000, 0.0000,\n",
              "           0.0000, 0.0000, 0.0000, 0.7765, 0.9961, 0.2196, 0.0000, 0.0000,\n",
              "           0.0000, 0.0000, 0.0000, 0.0000],\n",
              "          [0.0000, 0.0000, 0.0000, 0.4706, 0.9961, 0.6392, 0.0000, 0.0000,\n",
              "           0.0000, 0.0000, 0.0000, 0.0000, 0.0000, 0.0000, 0.0000, 0.0000,\n",
              "           0.0000, 0.0000, 0.0902, 0.9059, 0.9961, 0.1137, 0.0000, 0.0000,\n",
              "           0.0000, 0.0000, 0.0000, 0.0000],\n",
              "          [0.0000, 0.0000, 0.0000, 0.6235, 0.9961, 0.4706, 0.0000, 0.0000,\n",
              "           0.0000, 0.0000, 0.0000, 0.0000, 0.0000, 0.0000, 0.0000, 0.0000,\n",
              "           0.0000, 0.0000, 0.6392, 0.9961, 0.8471, 0.0627, 0.0000, 0.0000,\n",
              "           0.0000, 0.0000, 0.0000, 0.0000],\n",
              "          [0.0000, 0.0000, 0.0000, 0.6235, 0.9961, 0.2627, 0.0000, 0.0000,\n",
              "           0.0000, 0.0000, 0.0000, 0.0000, 0.0000, 0.0000, 0.0000, 0.0549,\n",
              "           0.3373, 0.6980, 0.9725, 0.9961, 0.3569, 0.0000, 0.0000, 0.0000,\n",
              "           0.0000, 0.0000, 0.0000, 0.0000],\n",
              "          [0.0000, 0.0000, 0.0000, 0.6235, 0.9961, 0.3333, 0.0000, 0.0000,\n",
              "           0.0000, 0.1843, 0.1922, 0.4549, 0.5647, 0.5882, 0.9451, 0.9529,\n",
              "           0.9176, 0.7020, 0.9451, 0.9882, 0.1569, 0.0000, 0.0000, 0.0000,\n",
              "           0.0000, 0.0000, 0.0000, 0.0000],\n",
              "          [0.0000, 0.0000, 0.0000, 0.5882, 0.9922, 0.9294, 0.8118, 0.8118,\n",
              "           0.8118, 0.9922, 0.9961, 0.9804, 0.9412, 0.7765, 0.5608, 0.3569,\n",
              "           0.1098, 0.0196, 0.9137, 0.9804, 0.0000, 0.0000, 0.0000, 0.0000,\n",
              "           0.0000, 0.0000, 0.0000, 0.0000],\n",
              "          [0.0000, 0.0000, 0.0000, 0.0000, 0.4667, 0.6941, 0.6941, 0.6941,\n",
              "           0.6941, 0.6941, 0.3843, 0.2196, 0.0000, 0.0000, 0.0000, 0.0000,\n",
              "           0.0000, 0.4000, 0.9961, 0.8627, 0.0000, 0.0000, 0.0000, 0.0000,\n",
              "           0.0000, 0.0000, 0.0000, 0.0000],\n",
              "          [0.0000, 0.0000, 0.0000, 0.0000, 0.0000, 0.0000, 0.0000, 0.0000,\n",
              "           0.0000, 0.0000, 0.0000, 0.0000, 0.0000, 0.0000, 0.0000, 0.0000,\n",
              "           0.0000, 0.6627, 0.9961, 0.5373, 0.0000, 0.0000, 0.0000, 0.0000,\n",
              "           0.0000, 0.0000, 0.0000, 0.0000],\n",
              "          [0.0000, 0.0000, 0.0000, 0.0000, 0.0000, 0.0000, 0.0000, 0.0000,\n",
              "           0.0000, 0.0000, 0.0000, 0.0000, 0.0000, 0.0000, 0.0000, 0.0000,\n",
              "           0.0000, 0.6627, 0.9961, 0.2235, 0.0000, 0.0000, 0.0000, 0.0000,\n",
              "           0.0000, 0.0000, 0.0000, 0.0000],\n",
              "          [0.0000, 0.0000, 0.0000, 0.0000, 0.0000, 0.0000, 0.0000, 0.0000,\n",
              "           0.0000, 0.0000, 0.0000, 0.0000, 0.0000, 0.0000, 0.0000, 0.0000,\n",
              "           0.0000, 0.6627, 0.9961, 0.2235, 0.0000, 0.0000, 0.0000, 0.0000,\n",
              "           0.0000, 0.0000, 0.0000, 0.0000],\n",
              "          [0.0000, 0.0000, 0.0000, 0.0000, 0.0000, 0.0000, 0.0000, 0.0000,\n",
              "           0.0000, 0.0000, 0.0000, 0.0000, 0.0000, 0.0000, 0.0000, 0.0000,\n",
              "           0.0000, 0.6627, 1.0000, 0.3686, 0.0000, 0.0000, 0.0000, 0.0000,\n",
              "           0.0000, 0.0000, 0.0000, 0.0000],\n",
              "          [0.0000, 0.0000, 0.0000, 0.0000, 0.0000, 0.0000, 0.0000, 0.0000,\n",
              "           0.0000, 0.0000, 0.0000, 0.0000, 0.0000, 0.0000, 0.0000, 0.0000,\n",
              "           0.0000, 0.6627, 0.9961, 0.3765, 0.0000, 0.0000, 0.0000, 0.0000,\n",
              "           0.0000, 0.0000, 0.0000, 0.0000],\n",
              "          [0.0000, 0.0000, 0.0000, 0.0000, 0.0000, 0.0000, 0.0000, 0.0000,\n",
              "           0.0000, 0.0000, 0.0000, 0.0000, 0.0000, 0.0000, 0.0000, 0.0000,\n",
              "           0.0000, 0.6627, 0.9961, 0.6000, 0.0000, 0.0000, 0.0000, 0.0000,\n",
              "           0.0000, 0.0000, 0.0000, 0.0000],\n",
              "          [0.0000, 0.0000, 0.0000, 0.0000, 0.0000, 0.0000, 0.0000, 0.0000,\n",
              "           0.0000, 0.0000, 0.0000, 0.0000, 0.0000, 0.0000, 0.0000, 0.0000,\n",
              "           0.0000, 0.6627, 1.0000, 0.6000, 0.0000, 0.0000, 0.0000, 0.0000,\n",
              "           0.0000, 0.0000, 0.0000, 0.0000],\n",
              "          [0.0000, 0.0000, 0.0000, 0.0000, 0.0000, 0.0000, 0.0000, 0.0000,\n",
              "           0.0000, 0.0000, 0.0000, 0.0000, 0.0000, 0.0000, 0.0000, 0.0000,\n",
              "           0.0000, 0.3765, 0.9961, 0.6000, 0.0000, 0.0000, 0.0000, 0.0000,\n",
              "           0.0000, 0.0000, 0.0000, 0.0000],\n",
              "          [0.0000, 0.0000, 0.0000, 0.0000, 0.0000, 0.0000, 0.0000, 0.0000,\n",
              "           0.0000, 0.0000, 0.0000, 0.0000, 0.0000, 0.0000, 0.0000, 0.0000,\n",
              "           0.0000, 0.0000, 0.0000, 0.0000, 0.0000, 0.0000, 0.0000, 0.0000,\n",
              "           0.0000, 0.0000, 0.0000, 0.0000],\n",
              "          [0.0000, 0.0000, 0.0000, 0.0000, 0.0000, 0.0000, 0.0000, 0.0000,\n",
              "           0.0000, 0.0000, 0.0000, 0.0000, 0.0000, 0.0000, 0.0000, 0.0000,\n",
              "           0.0000, 0.0000, 0.0000, 0.0000, 0.0000, 0.0000, 0.0000, 0.0000,\n",
              "           0.0000, 0.0000, 0.0000, 0.0000],\n",
              "          [0.0000, 0.0000, 0.0000, 0.0000, 0.0000, 0.0000, 0.0000, 0.0000,\n",
              "           0.0000, 0.0000, 0.0000, 0.0000, 0.0000, 0.0000, 0.0000, 0.0000,\n",
              "           0.0000, 0.0000, 0.0000, 0.0000, 0.0000, 0.0000, 0.0000, 0.0000,\n",
              "           0.0000, 0.0000, 0.0000, 0.0000]]]), 4)"
            ]
          },
          "metadata": {},
          "execution_count": 4
        }
      ]
    },
    {
      "cell_type": "code",
      "source": [
        "import matplotlib.pyplot as plt"
      ],
      "metadata": {
        "id": "5YxLttjnWkAI"
      },
      "execution_count": 5,
      "outputs": []
    },
    {
      "cell_type": "code",
      "source": [
        "plt.imshow(train_dataset[100][0].squeeze(), cmap='gray')\n",
        "train_dataset[100][1]"
      ],
      "metadata": {
        "colab": {
          "base_uri": "https://localhost:8080/",
          "height": 282
        },
        "id": "f_cghq9Kl9x3",
        "outputId": "96bf55d0-fdf9-48bd-ee7e-ea1012bbeab2"
      },
      "execution_count": 6,
      "outputs": [
        {
          "output_type": "execute_result",
          "data": {
            "text/plain": [
              "5"
            ]
          },
          "metadata": {},
          "execution_count": 6
        },
        {
          "output_type": "display_data",
          "data": {
            "text/plain": [
              "<Figure size 432x288 with 1 Axes>"
            ],
            "image/png": "[encoded data removed]"
          },
          "metadata": {
            "needs_background": "light"
          }
        }
      ]
    },
    {
      "cell_type": "code",
      "source": [
        "import random\n",
        "import numpy as np"
      ],
      "metadata": {
        "id": "YYY1wKteWi-6"
      },
      "execution_count": 7,
      "outputs": []
    },
    {
      "cell_type": "code",
      "source": [
        "seed = 2411"
      ],
      "metadata": {
        "id": "g72Nbha2pGLC"
      },
      "execution_count": 8,
      "outputs": []
    },
    {
      "cell_type": "code",
      "source": [
        "random.seed(seed)\n",
        "np.random.seed(seed)\n",
        "torch.manual_seed(seed)\n",
        "torch.backends.cudnn.deterministic = True\n",
        "torch.backends.cudnn.benchmark = False"
      ],
      "metadata": {
        "id": "Ux1pwHpipCeJ"
      },
      "execution_count": 9,
      "outputs": []
    },
    {
      "cell_type": "code",
      "source": [
        "train_loader = DataLoader(train_dataset, batch_size=64, shuffle=True)\n",
        "test_loader = DataLoader(test_dataset)"
      ],
      "metadata": {
        "id": "i9PZApo9ZqrE"
      },
      "execution_count": 10,
      "outputs": []
    },
    {
      "cell_type": "markdown",
      "source": [
        "### Logistic Regression"
      ],
      "metadata": {
        "id": "ULSzbfCXvV6-"
      }
    },
    {
      "cell_type": "code",
      "source": [
        "import torch.nn as nn\n",
        "import torch.nn.functional as F"
      ],
      "metadata": {
        "id": "pwtpEHW2bO15"
      },
      "execution_count": 11,
      "outputs": []
    },
    {
      "cell_type": "code",
      "source": [
        "# Implement \"Logistic Regression\" model with PyTorch\n",
        "\n",
        "class LogisticRegression(nn.Module):\n",
        "    # input_dim -> the number of independent variables (attributes)\n",
        "    # output_dim -> the number of (unique) classes for classification (e.g., dog-cat -> 2; car-bicycle-plane -> 3)\n",
        "    def __init__(self, input_dim, output_dim):  \n",
        "        super().__init__()\n",
        "        self.linear = nn.Linear(input_dim, output_dim)\n",
        "        \n",
        "    def forward(self, x):\n",
        "        logits = self.linear(x)\n",
        "        probs = F.softmax(logits, dim=1)\n",
        "        return logits, probs"
      ],
      "metadata": {
        "id": "T4X5BfsQbKrJ"
      },
      "execution_count": 12,
      "outputs": []
    },
    {
      "cell_type": "code",
      "source": [
        "import torch.optim as optim"
      ],
      "metadata": {
        "id": "1hEhCqsBfWKr"
      },
      "execution_count": 13,
      "outputs": []
    },
    {
      "cell_type": "code",
      "source": [
        "device = torch.device('cuda' if torch.cuda.is_available() else 'cpu')\n",
        "device"
      ],
      "metadata": {
        "colab": {
          "base_uri": "https://localhost:8080/"
        },
        "id": "S4dDN9_Pf2DA",
        "outputId": "cc3095fc-4e29-432b-c883-d87c49aefb56"
      },
      "execution_count": 14,
      "outputs": [
        {
          "output_type": "execute_result",
          "data": {
            "text/plain": [
              "device(type='cuda')"
            ]
          },
          "metadata": {},
          "execution_count": 14
        }
      ]
    },
    {
      "cell_type": "code",
      "source": [
        "# Design the 'train_model' function for training models\n",
        "# Loss Function: Cross Entropy Loss\n",
        "# Optimizer: SGD\n",
        "\n",
        "def train_model(data_loader, model, init_lr, maxEpoch):\n",
        "    # Loss Function\n",
        "    criterion = nn.CrossEntropyLoss()\n",
        "\n",
        "    # Optimization Algorithm.\n",
        "    # We can use other optimizers such as ADAM, RMSprop, etc.\n",
        "    optimizer = optim.SGD(model.parameters(), lr=init_lr)\n",
        "    \n",
        "    loss_each_epoch = []  # For tracking the trend of loss value\n",
        "    \n",
        "    # Switch model to the training mode\n",
        "    model.train()\n",
        "\n",
        "    for epoch in range(maxEpoch):\n",
        "        sum_loss = 0.0\n",
        "        for (imgs, labels) in data_loader:\n",
        "            # Load data to GPU/CPU\n",
        "            imgs, labels = imgs.to(device), labels.to(device)\n",
        "\n",
        "            # Change to the correct tensor shape\n",
        "            # Our data currently is in the format (batch_size, color_channel, w, h) (64, 1, 28, 28)\n",
        "            # We need to change our data to (batch_size, color_channel * w * h) (64, 1 * 28 * 28)\n",
        "            imgs = imgs.reshape(imgs.shape[0], -1)\n",
        "\n",
        "            # forward pass\n",
        "            logits, _ = model(imgs)  # Feed the training data into the model\n",
        "            loss = criterion(logits, labels)  # Calculate the loss value\n",
        "\n",
        "            # backward pass\n",
        "            optimizer.zero_grad()  # Empty the optimizer\n",
        "            loss.backward()  # Compute the gradient dJ/dw's\n",
        "\n",
        "            optimizer.step()  # Update the model's parameters\n",
        "\n",
        "            sum_loss += loss.item()\n",
        "        loss_each_epoch.append(sum_loss/len(data_loader.dataset))\n",
        "        print(f'Epoch {epoch + 1}/{maxEpoch}, Loss: {loss_each_epoch[-1]:.2f}')\n",
        "    return loss_each_epoch"
      ],
      "metadata": {
        "id": "pZotr39MfQVv"
      },
      "execution_count": 15,
      "outputs": []
    },
    {
      "cell_type": "code",
      "source": [
        "# Train Logistic Regression model\n",
        "\n",
        "clf_LR = LogisticRegression(input_dim=28 * 28, output_dim=10).to(device)\n",
        "loss_each_epoch_LR = train_model(data_loader=train_loader, model=clf_LR, init_lr=0.001, maxEpoch=20)"
      ],
      "metadata": {
        "colab": {
          "base_uri": "https://localhost:8080/"
        },
        "id": "jGR3cnU5ic6c",
        "outputId": "6a387076-fa0f-432a-ef51-881336717719"
      },
      "execution_count": 16,
      "outputs": [
        {
          "output_type": "stream",
          "name": "stdout",
          "text": [
            "Epoch 1/20, Loss: 0.03\n",
            "Epoch 2/20, Loss: 0.02\n",
            "Epoch 3/20, Loss: 0.02\n",
            "Epoch 4/20, Loss: 0.02\n",
            "Epoch 5/20, Loss: 0.01\n",
            "Epoch 6/20, Loss: 0.01\n",
            "Epoch 7/20, Loss: 0.01\n",
            "Epoch 8/20, Loss: 0.01\n",
            "Epoch 9/20, Loss: 0.01\n",
            "Epoch 10/20, Loss: 0.01\n",
            "Epoch 11/20, Loss: 0.01\n",
            "Epoch 12/20, Loss: 0.01\n",
            "Epoch 13/20, Loss: 0.01\n",
            "Epoch 14/20, Loss: 0.01\n",
            "Epoch 15/20, Loss: 0.01\n",
            "Epoch 16/20, Loss: 0.01\n",
            "Epoch 17/20, Loss: 0.01\n",
            "Epoch 18/20, Loss: 0.01\n",
            "Epoch 19/20, Loss: 0.01\n",
            "Epoch 20/20, Loss: 0.01\n"
          ]
        }
      ]
    },
    {
      "cell_type": "code",
      "source": [
        "plt.plot(range(1, len(loss_each_epoch_LR) + 1), loss_each_epoch_LR)\n",
        "plt.xlabel('Epoch')\n",
        "plt.ylabel('Loss')\n",
        "plt.title('LogisticRegression-MNIST')\n",
        "plt.show()"
      ],
      "metadata": {
        "colab": {
          "base_uri": "https://localhost:8080/",
          "height": 295
        },
        "outputId": "7df840f3-ef7e-4ff3-cdfe-5041086af963",
        "id": "zHjTTzO3ic6c"
      },
      "execution_count": 17,
      "outputs": [
        {
          "output_type": "display_data",
          "data": {
            "text/plain": [
              "<Figure size 432x288 with 1 Axes>"
            ],
            "image/png": "[encoded data removed]"
          },
          "metadata": {
            "needs_background": "light"
          }
        }
      ]
    },
    {
      "cell_type": "code",
      "source": [
        "loss_each_epoch_LR[-1]"
      ],
      "metadata": {
        "id": "i37bw7CTjEra",
        "colab": {
          "base_uri": "https://localhost:8080/"
        },
        "outputId": "fd97ac8c-45b1-4a01-910f-dba0158cd566"
      },
      "execution_count": 18,
      "outputs": [
        {
          "output_type": "execute_result",
          "data": {
            "text/plain": [
              "0.007902178244789441"
            ]
          },
          "metadata": {},
          "execution_count": 18
        }
      ]
    },
    {
      "cell_type": "code",
      "source": [
        "# Design the 'model_evaluation' function for evaluating the trained models\n",
        "def model_evaluation(data_loader, model):\n",
        "    nCorrects = 0\n",
        "    model.eval()  # put our model on the evaluation mode\n",
        "\n",
        "    with torch.no_grad():\n",
        "        for (imgs, labels) in data_loader:\n",
        "            imgs, labels = imgs.to(device), labels.to(device)\n",
        "            imgs = imgs.reshape(imgs.shape[0], -1)\n",
        "\n",
        "            # forward\n",
        "            _, probs = model(imgs)\n",
        "            _, y_pred = probs.max(1)\n",
        "            nCorrects += (y_pred == labels).sum()\n",
        "    print(f'We got {nCorrects.item()}/{len(data_loader.dataset)} correct. Accuracy = {nCorrects.item()/len(data_loader.dataset) * 100:.2f}%')"
      ],
      "metadata": {
        "id": "4Ac_OL87wkO3"
      },
      "execution_count": 19,
      "outputs": []
    },
    {
      "cell_type": "code",
      "source": [
        "print('Logistic Regression (Train Accuracy)')\n",
        "model_evaluation(data_loader=train_loader, model=clf_LR)"
      ],
      "metadata": {
        "id": "gEzLMsJRyAX_",
        "colab": {
          "base_uri": "https://localhost:8080/"
        },
        "outputId": "ce4eb120-5ccc-497d-d0b0-f15f5dbe8a76"
      },
      "execution_count": 20,
      "outputs": [
        {
          "output_type": "stream",
          "name": "stdout",
          "text": [
            "Logistic Regression (Train Accuracy)\n",
            "We got 52431/60000 correct. Accuracy = 87.39%\n"
          ]
        }
      ]
    },
    {
      "cell_type": "code",
      "source": [
        "print('Logistic Regression (Test Accuracy)')\n",
        "model_evaluation(data_loader=test_loader, model=clf_LR)"
      ],
      "metadata": {
        "id": "RXNug6VYUaSx",
        "colab": {
          "base_uri": "https://localhost:8080/"
        },
        "outputId": "4479c155-a69d-407b-aab4-3a7c0faea8fc"
      },
      "execution_count": 21,
      "outputs": [
        {
          "output_type": "stream",
          "name": "stdout",
          "text": [
            "Logistic Regression (Test Accuracy)\n",
            "We got 8839/10000 correct. Accuracy = 88.39%\n"
          ]
        }
      ]
    },
    {
      "cell_type": "code",
      "source": [
        "ROW_IMG, N_ROWS = 10, 5\n",
        "\n",
        "fig = plt.figure()\n",
        "for index in range(1, ROW_IMG * N_ROWS + 1):\n",
        "    plt.subplot(N_ROWS, ROW_IMG, index)\n",
        "    plt.axis('off')\n",
        "    plt.imshow(test_dataset.data[index], cmap='gray_r')\n",
        "    \n",
        "    with torch.no_grad():\n",
        "        clf_LR.eval()\n",
        "        X = test_dataset[index][0].reshape(test_dataset[index][0].shape[0], -1).to(device)\n",
        "        _, probs = clf_LR(X)\n",
        "        \n",
        "    title = f'{torch.argmax(probs)} ({torch.max(probs * 100):.0f}%)'\n",
        "    \n",
        "    plt.title(title, fontsize=7)\n",
        "fig.suptitle('Logistic Regression - predictions')\n",
        "plt.show()"
      ],
      "metadata": {
        "id": "gCrrs6EITLf2",
        "colab": {
          "base_uri": "https://localhost:8080/",
          "height": 273
        },
        "outputId": "4bda20de-3f65-426a-ce53-f675d39e864a"
      },
      "execution_count": 22,
      "outputs": [
        {
          "output_type": "display_data",
          "data": {
            "text/plain": [
              "<Figure size 432x288 with 50 Axes>"
            ],
            "image/png": "[encoded data removed]"
          },
          "metadata": {
            "needs_background": "light"
          }
        }
      ]
    },
    {
      "cell_type": "code",
      "source": [
        "# Task: Build a MLP model with 6 layers (input layer, ouput layer and 1 hidden layer)\n",
        "# The activation of each node in 'input' layer and 'hidden' layers is ReLU\n",
        "# The input size of each layer:\n",
        "# + Input layer: input_dim\n",
        "# + Hidden layer 1: 100\n",
        "# + Output layer: 25\n",
        "\n",
        "class MLP(nn.Module):\n",
        "    def __init__(self, input_dim, output_dim):\n",
        "        super().__init__()\n",
        "        self.classifier = nn.Sequential(\n",
        "            nn.Linear(input_dim, 100),\n",
        "            nn.ReLU(),\n",
        "            nn.Linear(100, 25),\n",
        "            nn.ReLU(),\n",
        "            nn.Linear(25, output_dim)\n",
        "        )\n",
        "\n",
        "    def forward(self, x):\n",
        "        logits = self.classifier(x)\n",
        "        probs = F.softmax(logits, dim=1)\n",
        "        return logits, probs"
      ],
      "metadata": {
        "id": "r_Pm9qpp2Aa5"
      },
      "execution_count": 23,
      "outputs": []
    },
    {
      "cell_type": "code",
      "source": [
        "clf_MLP = MLP(input_dim=28 * 28, output_dim=10).to(device)\n",
        "clf_MLP"
      ],
      "metadata": {
        "id": "uJCl4O0RReP7",
        "colab": {
          "base_uri": "https://localhost:8080/"
        },
        "outputId": "ab676517-cc03-4694-cf9f-fec13ac67112"
      },
      "execution_count": 24,
      "outputs": [
        {
          "output_type": "execute_result",
          "data": {
            "text/plain": [
              "MLP(\n",
              "  (classifier): Sequential(\n",
              "    (0): Linear(in_features=784, out_features=100, bias=True)\n",
              "    (1): ReLU()\n",
              "    (2): Linear(in_features=100, out_features=25, bias=True)\n",
              "    (3): ReLU()\n",
              "    (4): Linear(in_features=25, out_features=10, bias=True)\n",
              "  )\n",
              ")"
            ]
          },
          "metadata": {},
          "execution_count": 24
        }
      ]
    },
    {
      "cell_type": "code",
      "source": [
        "# Train MLP model\n",
        "# Input dim = 412 * 233\n",
        "# Output dim = 32\n",
        "# Initial Learning Rate: 0.001\n",
        "# Max Epoch = 20\n",
        "loss_each_epoch_MLP = train_model(train_loader, clf_MLP, 0.001, 20)"
      ],
      "metadata": {
        "id": "NxppYY7oTsNM",
        "colab": {
          "base_uri": "https://localhost:8080/"
        },
        "outputId": "85082866-dbed-4f0a-b747-9bf326b95cea"
      },
      "execution_count": 25,
      "outputs": [
        {
          "output_type": "stream",
          "name": "stdout",
          "text": [
            "Epoch 1/20, Loss: 0.04\n",
            "Epoch 2/20, Loss: 0.04\n",
            "Epoch 3/20, Loss: 0.03\n",
            "Epoch 4/20, Loss: 0.03\n",
            "Epoch 5/20, Loss: 0.03\n",
            "Epoch 6/20, Loss: 0.03\n",
            "Epoch 7/20, Loss: 0.02\n",
            "Epoch 8/20, Loss: 0.02\n",
            "Epoch 9/20, Loss: 0.02\n",
            "Epoch 10/20, Loss: 0.01\n",
            "Epoch 11/20, Loss: 0.01\n",
            "Epoch 12/20, Loss: 0.01\n",
            "Epoch 13/20, Loss: 0.01\n",
            "Epoch 14/20, Loss: 0.01\n",
            "Epoch 15/20, Loss: 0.01\n",
            "Epoch 16/20, Loss: 0.01\n",
            "Epoch 17/20, Loss: 0.01\n",
            "Epoch 18/20, Loss: 0.01\n",
            "Epoch 19/20, Loss: 0.01\n",
            "Epoch 20/20, Loss: 0.01\n"
          ]
        }
      ]
    },
    {
      "cell_type": "code",
      "source": [
        "plt.plot(range(1, len(loss_each_epoch_MLP) + 1), loss_each_epoch_MLP)\n",
        "plt.xlabel('Epoch')\n",
        "plt.ylabel('Loss')\n",
        "plt.title('MLP-MNIST')\n",
        "plt.show()"
      ],
      "metadata": {
        "id": "46kEeCE4j9AP",
        "colab": {
          "base_uri": "https://localhost:8080/",
          "height": 295
        },
        "outputId": "d351e76b-4da5-456c-abd4-9c86387cd2f9"
      },
      "execution_count": 26,
      "outputs": [
        {
          "output_type": "display_data",
          "data": {
            "text/plain": [
              "<Figure size 432x288 with 1 Axes>"
            ],
            "image/png": "[encoded data removed]"
          },
          "metadata": {
            "needs_background": "light"
          }
        }
      ]
    },
    {
      "cell_type": "code",
      "source": [
        "print('Multi Layer Perceptron (Train Accuracy)')\n",
        "model_evaluation(train_loader, clf_MLP)"
      ],
      "metadata": {
        "colab": {
          "base_uri": "https://localhost:8080/"
        },
        "id": "IynO3NcfyT0O",
        "outputId": "fe5028d6-2a5a-4ef6-a89a-bcd0c719009f"
      },
      "execution_count": 27,
      "outputs": [
        {
          "output_type": "stream",
          "name": "stdout",
          "text": [
            "Multi Layer Perceptron (Train Accuracy)\n",
            "We got 52462/60000 correct. Accuracy = 87.44%\n"
          ]
        }
      ]
    },
    {
      "cell_type": "code",
      "source": [
        "print('Multi Layer Perceptron (Test Accuracy)')\n",
        "model_evaluation(test_loader, clf_MLP)"
      ],
      "metadata": {
        "colab": {
          "base_uri": "https://localhost:8080/"
        },
        "id": "v7izp5kKUb7q",
        "outputId": "f71e5a90-f6aa-4033-a571-c12a066f20bf"
      },
      "execution_count": 28,
      "outputs": [
        {
          "output_type": "stream",
          "name": "stdout",
          "text": [
            "Multi Layer Perceptron (Test Accuracy)\n",
            "We got 8793/10000 correct. Accuracy = 87.93%\n"
          ]
        }
      ]
    },
    {
      "cell_type": "code",
      "source": [
        "ROW_IMG, N_ROWS = 10, 5\n",
        "\n",
        "fig = plt.figure()\n",
        "for index in range(1, ROW_IMG * N_ROWS + 1):\n",
        "    plt.subplot(N_ROWS, ROW_IMG, index)\n",
        "    plt.axis('off')\n",
        "    plt.imshow(test_dataset.data[index], cmap='gray_r')\n",
        "    \n",
        "    with torch.no_grad():\n",
        "        clf_MLP.eval()\n",
        "        X = test_dataset[index][0].reshape(test_dataset[index][0].shape[0], -1).to(device)\n",
        "        _, probs = clf_MLP(X)\n",
        "        \n",
        "    title = f'{torch.argmax(probs)} ({torch.max(probs * 100):.0f}%)'\n",
        "    \n",
        "    plt.title(title, fontsize=7)\n",
        "fig.suptitle('Multi Layer Perceptron - predictions')\n",
        "plt.show()\n",
        "plt.savefig('MLP_pred.jpg', bbox_inches='tight', pad_inches=0.1, dpi=300)"
      ],
      "metadata": {
        "id": "t6lEF38rx5VC",
        "colab": {
          "base_uri": "https://localhost:8080/",
          "height": 290
        },
        "outputId": "41befccb-d616-4449-97c5-10064737984a"
      },
      "execution_count": 29,
      "outputs": [
        {
          "output_type": "display_data",
          "data": {
            "text/plain": [
              "<Figure size 432x288 with 50 Axes>"
            ],
            "image/png": "[encoded data removed]"
          },
          "metadata": {
            "needs_background": "light"
          }
        },
        {
          "output_type": "display_data",
          "data": {
            "text/plain": [
              "<Figure size 432x288 with 0 Axes>"
            ]
          },
          "metadata": {}
        }
      ]
    },
    {
      "cell_type": "markdown",
      "source": [
        "### Cake Classification"
      ],
      "metadata": {
        "id": "cbzPBxBL5iHa"
      }
    },
    {
      "cell_type": "code",
      "source": [
        "import os\n",
        "import cv2"
      ],
      "metadata": {
        "id": "AD5thU6r5tYk"
      },
      "execution_count": 40,
      "outputs": []
    },
    {
      "cell_type": "code",
      "source": [
        "root_dir = '/content/drive/MyDrive/CSBU014.N11.KHBC/Logistic_Regression/images'"
      ],
      "metadata": {
        "id": "pAECM_R55nz4"
      },
      "execution_count": 41,
      "outputs": []
    },
    {
      "cell_type": "code",
      "source": [
        "list_folders = os.listdir(root_dir)\n",
        "list_folders"
      ],
      "metadata": {
        "colab": {
          "base_uri": "https://localhost:8080/"
        },
        "id": "Xe-zbCvo5pqE",
        "outputId": "a6f1b68b-07fa-427a-9d2c-9758e5de4382"
      },
      "execution_count": 42,
      "outputs": [
        {
          "output_type": "execute_result",
          "data": {
            "text/plain": [
              "['pizza', 'donut', 'banhmi', 'pretzel', 'cookie', 'croissaint']"
            ]
          },
          "metadata": {},
          "execution_count": 42
        }
      ]
    },
    {
      "cell_type": "code",
      "source": [
        "X_cake, y_cake = [], []"
      ],
      "metadata": {
        "id": "3h2fvqZ85xVF"
      },
      "execution_count": 43,
      "outputs": []
    },
    {
      "cell_type": "code",
      "source": [
        "for folder in list_folders:\n",
        "    list_image_paths = os.listdir(root_dir + '/' + folder)\n",
        "    for image_path in list_image_paths:\n",
        "        img_matrix = cv2.imread(root_dir + '/' + folder + '/' + image_path, 0)\n",
        "        X_cake.append([img_matrix])\n",
        "        y_cake.append(folder)"
      ],
      "metadata": {
        "id": "S79Iyvaf51xY"
      },
      "execution_count": 44,
      "outputs": []
    },
    {
      "cell_type": "code",
      "source": [
        "# Normalize the value of each pixel by dividing them to 255\n",
        "X_cake = np.array(X_cake)/255"
      ],
      "metadata": {
        "id": "1y4zagB3A1tp"
      },
      "execution_count": 45,
      "outputs": []
    },
    {
      "cell_type": "code",
      "source": [
        "# Perform 'label encoding' on y\n",
        "from sklearn.preprocessing import LabelEncoder\n",
        "le = LabelEncoder()"
      ],
      "metadata": {
        "id": "Qfz1QVEz53YS"
      },
      "execution_count": 46,
      "outputs": []
    },
    {
      "cell_type": "code",
      "source": [
        "y_cake = le.fit_transform(y_cake)"
      ],
      "metadata": {
        "id": "4n0yPrp454hH"
      },
      "execution_count": 47,
      "outputs": []
    },
    {
      "cell_type": "code",
      "source": [
        "from sklearn.model_selection import train_test_split"
      ],
      "metadata": {
        "id": "vhE8dtkI6C19"
      },
      "execution_count": 48,
      "outputs": []
    },
    {
      "cell_type": "code",
      "source": [
        "X_train, X_test, y_train, y_test = train_test_split(X_cake, y_cake, test_size=0.3, random_state=seed)"
      ],
      "metadata": {
        "id": "FpRjfct0E6gA"
      },
      "execution_count": 49,
      "outputs": []
    },
    {
      "cell_type": "code",
      "source": [
        "print(X_train.shape)"
      ],
      "metadata": {
        "colab": {
          "base_uri": "https://localhost:8080/"
        },
        "id": "1SsPD60n7p_y",
        "outputId": "de9dd15e-c773-42f3-9f25-b0559d56efda"
      },
      "execution_count": 50,
      "outputs": [
        {
          "output_type": "stream",
          "name": "stdout",
          "text": [
            "(210, 1, 500, 500)\n"
          ]
        }
      ]
    },
    {
      "cell_type": "code",
      "source": [
        "# Convert the data type of X_train, X_test, y_train, y_test ('List') to 'Numpy'\n",
        "X_train, X_test = np.array(X_train), np.array(X_test)\n",
        "y_train, y_test = np.array(y_train), np.array(y_test)"
      ],
      "metadata": {
        "id": "Bl9UXcul677_"
      },
      "execution_count": 51,
      "outputs": []
    },
    {
      "cell_type": "code",
      "source": [
        "# Convert the data type of X_train, X_test, y_train, y_test ('Numpy') to 'Tensor'\n",
        "X_train = torch.from_numpy(X_train).float()\n",
        "X_test = torch.from_numpy(X_test).float()\n",
        "y_train = torch.from_numpy(y_train)\n",
        "y_test = torch.from_numpy(y_test)"
      ],
      "metadata": {
        "id": "A1uJHbqoZrRC"
      },
      "execution_count": 52,
      "outputs": []
    },
    {
      "cell_type": "code",
      "source": [
        "print(len(X_train))"
      ],
      "metadata": {
        "colab": {
          "base_uri": "https://localhost:8080/"
        },
        "id": "mft9G_RdeAUR",
        "outputId": "bfd37006-4eea-4903-9e1f-d138221c2843"
      },
      "execution_count": 53,
      "outputs": [
        {
          "output_type": "stream",
          "name": "stdout",
          "text": [
            "210\n"
          ]
        }
      ]
    },
    {
      "cell_type": "code",
      "source": [
        "from torch.utils.data import TensorDataset"
      ],
      "metadata": {
        "id": "XPNs28vCZK-z"
      },
      "execution_count": 54,
      "outputs": []
    },
    {
      "cell_type": "code",
      "source": [
        "# Create train_dataset, test_dataset\n",
        "train_dataset_cake = TensorDataset(X_train, y_train)\n",
        "test_dataset_cake = TensorDataset(X_test, y_test)"
      ],
      "metadata": {
        "id": "EloVm52fZI_q"
      },
      "execution_count": 55,
      "outputs": []
    },
    {
      "cell_type": "code",
      "source": [
        "# Create train_loader, test_loader\n",
        "train_loader_cake = DataLoader(train_dataset_cake, batch_size=16, shuffle=True)\n",
        "test_loader_cake = DataLoader(test_dataset_cake)"
      ],
      "metadata": {
        "id": "qqhdknbfPUka"
      },
      "execution_count": 56,
      "outputs": []
    },
    {
      "cell_type": "code",
      "source": [
        "print(train_dataset_cake[0])"
      ],
      "metadata": {
        "id": "tLRJxQqQov7q",
        "colab": {
          "base_uri": "https://localhost:8080/"
        },
        "outputId": "3c56eff5-81b7-4df1-cb93-81edd1eb3930"
      },
      "execution_count": 57,
      "outputs": [
        {
          "output_type": "stream",
          "name": "stdout",
          "text": [
            "(tensor([[[1., 1., 1.,  ..., 1., 1., 1.],\n",
            "         [1., 1., 1.,  ..., 1., 1., 1.],\n",
            "         [1., 1., 1.,  ..., 1., 1., 1.],\n",
            "         ...,\n",
            "         [1., 1., 1.,  ..., 1., 1., 1.],\n",
            "         [1., 1., 1.,  ..., 1., 1., 1.],\n",
            "         [1., 1., 1.,  ..., 1., 1., 1.]]]), tensor(0))\n"
          ]
        }
      ]
    },
    {
      "cell_type": "code",
      "source": [
        "clf_LR_1 = LogisticRegression(input_dim=250000, output_dim=6).to(device)\n",
        "loss_each_epoch_LR_1 = train_model(train_loader_cake, clf_LR_1, 0.001, 200)"
      ],
      "metadata": {
        "id": "-vXZBVSqcP11",
        "colab": {
          "base_uri": "https://localhost:8080/"
        },
        "outputId": "3940b320-55e2-438a-f14b-8f44614f91c8"
      },
      "execution_count": 58,
      "outputs": [
        {
          "output_type": "stream",
          "name": "stdout",
          "text": [
            "Epoch 1/200, Loss: 4.94\n",
            "Epoch 2/200, Loss: 5.42\n",
            "Epoch 3/200, Loss: 4.85\n",
            "Epoch 4/200, Loss: 3.74\n",
            "Epoch 5/200, Loss: 2.33\n",
            "Epoch 6/200, Loss: 2.31\n",
            "Epoch 7/200, Loss: 1.57\n",
            "Epoch 8/200, Loss: 2.81\n",
            "Epoch 9/200, Loss: 1.09\n",
            "Epoch 10/200, Loss: 0.23\n",
            "Epoch 11/200, Loss: 0.34\n",
            "Epoch 12/200, Loss: 0.27\n",
            "Epoch 13/200, Loss: 0.81\n",
            "Epoch 14/200, Loss: 1.23\n",
            "Epoch 15/200, Loss: 0.46\n",
            "Epoch 16/200, Loss: 0.71\n",
            "Epoch 17/200, Loss: 0.61\n",
            "Epoch 18/200, Loss: 0.95\n",
            "Epoch 19/200, Loss: 0.12\n",
            "Epoch 20/200, Loss: 1.02\n",
            "Epoch 21/200, Loss: 0.43\n",
            "Epoch 22/200, Loss: 0.10\n",
            "Epoch 23/200, Loss: 0.10\n",
            "Epoch 24/200, Loss: 0.18\n",
            "Epoch 25/200, Loss: 0.60\n",
            "Epoch 26/200, Loss: 0.62\n",
            "Epoch 27/200, Loss: 0.05\n",
            "Epoch 28/200, Loss: 0.49\n",
            "Epoch 29/200, Loss: 0.19\n",
            "Epoch 30/200, Loss: 0.37\n",
            "Epoch 31/200, Loss: 0.04\n",
            "Epoch 32/200, Loss: 0.09\n",
            "Epoch 33/200, Loss: 0.05\n",
            "Epoch 34/200, Loss: 0.10\n",
            "Epoch 35/200, Loss: 0.02\n",
            "Epoch 36/200, Loss: 0.05\n",
            "Epoch 37/200, Loss: 0.04\n",
            "Epoch 38/200, Loss: 0.07\n",
            "Epoch 39/200, Loss: 0.02\n",
            "Epoch 40/200, Loss: 0.36\n",
            "Epoch 41/200, Loss: 0.43\n",
            "Epoch 42/200, Loss: 0.05\n",
            "Epoch 43/200, Loss: 0.04\n",
            "Epoch 44/200, Loss: 0.03\n",
            "Epoch 45/200, Loss: 0.10\n",
            "Epoch 46/200, Loss: 0.04\n",
            "Epoch 47/200, Loss: 0.12\n",
            "Epoch 48/200, Loss: 0.06\n",
            "Epoch 49/200, Loss: 0.11\n",
            "Epoch 50/200, Loss: 0.04\n",
            "Epoch 51/200, Loss: 0.09\n",
            "Epoch 52/200, Loss: 0.08\n",
            "Epoch 53/200, Loss: 0.15\n",
            "Epoch 54/200, Loss: 0.04\n",
            "Epoch 55/200, Loss: 0.07\n",
            "Epoch 56/200, Loss: 0.59\n",
            "Epoch 57/200, Loss: 0.05\n",
            "Epoch 58/200, Loss: 0.05\n",
            "Epoch 59/200, Loss: 0.02\n",
            "Epoch 60/200, Loss: 0.07\n",
            "Epoch 61/200, Loss: 0.04\n",
            "Epoch 62/200, Loss: 0.08\n",
            "Epoch 63/200, Loss: 0.27\n",
            "Epoch 64/200, Loss: 0.05\n",
            "Epoch 65/200, Loss: 0.03\n",
            "Epoch 66/200, Loss: 0.10\n",
            "Epoch 67/200, Loss: 0.22\n",
            "Epoch 68/200, Loss: 0.04\n",
            "Epoch 69/200, Loss: 0.01\n",
            "Epoch 70/200, Loss: 0.07\n",
            "Epoch 71/200, Loss: 0.03\n",
            "Epoch 72/200, Loss: 0.75\n",
            "Epoch 73/200, Loss: 0.02\n",
            "Epoch 74/200, Loss: 0.04\n",
            "Epoch 75/200, Loss: 0.05\n",
            "Epoch 76/200, Loss: 0.02\n",
            "Epoch 77/200, Loss: 0.04\n",
            "Epoch 78/200, Loss: 0.01\n",
            "Epoch 79/200, Loss: 0.02\n",
            "Epoch 80/200, Loss: 0.01\n",
            "Epoch 81/200, Loss: 0.02\n",
            "Epoch 82/200, Loss: 0.01\n",
            "Epoch 83/200, Loss: 0.04\n",
            "Epoch 84/200, Loss: 0.02\n",
            "Epoch 85/200, Loss: 0.01\n",
            "Epoch 86/200, Loss: 0.05\n",
            "Epoch 87/200, Loss: 0.02\n",
            "Epoch 88/200, Loss: 0.04\n",
            "Epoch 89/200, Loss: 0.08\n",
            "Epoch 90/200, Loss: 0.03\n",
            "Epoch 91/200, Loss: 0.01\n",
            "Epoch 92/200, Loss: 0.01\n",
            "Epoch 93/200, Loss: 0.05\n",
            "Epoch 94/200, Loss: 0.00\n",
            "Epoch 95/200, Loss: 0.01\n",
            "Epoch 96/200, Loss: 0.01\n",
            "Epoch 97/200, Loss: 0.02\n",
            "Epoch 98/200, Loss: 0.00\n",
            "Epoch 99/200, Loss: 0.01\n",
            "Epoch 100/200, Loss: 0.00\n",
            "Epoch 101/200, Loss: 0.00\n",
            "Epoch 102/200, Loss: 0.00\n",
            "Epoch 103/200, Loss: 0.03\n",
            "Epoch 104/200, Loss: 0.01\n",
            "Epoch 105/200, Loss: 0.05\n",
            "Epoch 106/200, Loss: 0.00\n",
            "Epoch 107/200, Loss: 0.02\n",
            "Epoch 108/200, Loss: 0.00\n",
            "Epoch 109/200, Loss: 0.01\n",
            "Epoch 110/200, Loss: 0.00\n",
            "Epoch 111/200, Loss: 0.01\n",
            "Epoch 112/200, Loss: 0.00\n",
            "Epoch 113/200, Loss: 0.00\n",
            "Epoch 114/200, Loss: 0.01\n",
            "Epoch 115/200, Loss: 0.00\n",
            "Epoch 116/200, Loss: 0.06\n",
            "Epoch 117/200, Loss: 0.95\n",
            "Epoch 118/200, Loss: 0.04\n",
            "Epoch 119/200, Loss: 0.02\n",
            "Epoch 120/200, Loss: 0.01\n",
            "Epoch 121/200, Loss: 0.04\n",
            "Epoch 122/200, Loss: 0.03\n",
            "Epoch 123/200, Loss: 0.01\n",
            "Epoch 124/200, Loss: 0.01\n",
            "Epoch 125/200, Loss: 0.01\n",
            "Epoch 126/200, Loss: 0.01\n",
            "Epoch 127/200, Loss: 0.00\n",
            "Epoch 128/200, Loss: 0.00\n",
            "Epoch 129/200, Loss: 0.00\n",
            "Epoch 130/200, Loss: 0.01\n",
            "Epoch 131/200, Loss: 0.00\n",
            "Epoch 132/200, Loss: 0.01\n",
            "Epoch 133/200, Loss: 0.01\n",
            "Epoch 134/200, Loss: 0.01\n",
            "Epoch 135/200, Loss: 0.00\n",
            "Epoch 136/200, Loss: 0.03\n",
            "Epoch 137/200, Loss: 0.00\n",
            "Epoch 138/200, Loss: 0.00\n",
            "Epoch 139/200, Loss: 0.01\n",
            "Epoch 140/200, Loss: 0.00\n",
            "Epoch 141/200, Loss: 0.00\n",
            "Epoch 142/200, Loss: 0.00\n",
            "Epoch 143/200, Loss: 0.00\n",
            "Epoch 144/200, Loss: 0.00\n",
            "Epoch 145/200, Loss: 0.01\n",
            "Epoch 146/200, Loss: 0.00\n",
            "Epoch 147/200, Loss: 0.01\n",
            "Epoch 148/200, Loss: 0.01\n",
            "Epoch 149/200, Loss: 0.01\n",
            "Epoch 150/200, Loss: 0.00\n",
            "Epoch 151/200, Loss: 0.02\n",
            "Epoch 152/200, Loss: 0.02\n",
            "Epoch 153/200, Loss: 0.00\n",
            "Epoch 154/200, Loss: 0.02\n",
            "Epoch 155/200, Loss: 0.00\n",
            "Epoch 156/200, Loss: 0.00\n",
            "Epoch 157/200, Loss: 0.00\n",
            "Epoch 158/200, Loss: 0.00\n",
            "Epoch 159/200, Loss: 0.00\n",
            "Epoch 160/200, Loss: 0.00\n",
            "Epoch 161/200, Loss: 0.00\n",
            "Epoch 162/200, Loss: 0.00\n",
            "Epoch 163/200, Loss: 0.00\n",
            "Epoch 164/200, Loss: 0.00\n",
            "Epoch 165/200, Loss: 0.00\n",
            "Epoch 166/200, Loss: 0.00\n",
            "Epoch 167/200, Loss: 0.00\n",
            "Epoch 168/200, Loss: 0.00\n",
            "Epoch 169/200, Loss: 0.00\n",
            "Epoch 170/200, Loss: 0.00\n",
            "Epoch 171/200, Loss: 0.00\n",
            "Epoch 172/200, Loss: 0.00\n",
            "Epoch 173/200, Loss: 0.00\n",
            "Epoch 174/200, Loss: 0.00\n",
            "Epoch 175/200, Loss: 0.00\n",
            "Epoch 176/200, Loss: 0.00\n",
            "Epoch 177/200, Loss: 0.00\n",
            "Epoch 178/200, Loss: 0.00\n",
            "Epoch 179/200, Loss: 0.00\n",
            "Epoch 180/200, Loss: 0.00\n",
            "Epoch 181/200, Loss: 0.00\n",
            "Epoch 182/200, Loss: 0.00\n",
            "Epoch 183/200, Loss: 0.00\n",
            "Epoch 184/200, Loss: 0.00\n",
            "Epoch 185/200, Loss: 0.00\n",
            "Epoch 186/200, Loss: 0.00\n",
            "Epoch 187/200, Loss: 0.00\n",
            "Epoch 188/200, Loss: 0.00\n",
            "Epoch 189/200, Loss: 0.00\n",
            "Epoch 190/200, Loss: 0.00\n",
            "Epoch 191/200, Loss: 0.00\n",
            "Epoch 192/200, Loss: 0.00\n",
            "Epoch 193/200, Loss: 0.00\n",
            "Epoch 194/200, Loss: 0.00\n",
            "Epoch 195/200, Loss: 0.00\n",
            "Epoch 196/200, Loss: 0.00\n",
            "Epoch 197/200, Loss: 0.00\n",
            "Epoch 198/200, Loss: 0.00\n",
            "Epoch 199/200, Loss: 0.00\n",
            "Epoch 200/200, Loss: 0.00\n"
          ]
        }
      ]
    },
    {
      "cell_type": "code",
      "source": [
        "clf_MLP_1 = MLP(input_dim=250000, output_dim=6).to(device)\n",
        "loss_each_epoch_MLP_1 = train_model(train_loader_cake, clf_MLP_1, 0.001, 200)"
      ],
      "metadata": {
        "id": "VHxXafl7CV8i",
        "colab": {
          "base_uri": "https://localhost:8080/"
        },
        "outputId": "ff47a596-b7ca-4bf9-ee50-7abcad320ade"
      },
      "execution_count": 59,
      "outputs": [
        {
          "output_type": "stream",
          "name": "stdout",
          "text": [
            "Epoch 1/200, Loss: 0.12\n",
            "Epoch 2/200, Loss: 0.12\n",
            "Epoch 3/200, Loss: 0.12\n",
            "Epoch 4/200, Loss: 0.12\n",
            "Epoch 5/200, Loss: 0.12\n",
            "Epoch 6/200, Loss: 0.11\n",
            "Epoch 7/200, Loss: 0.11\n",
            "Epoch 8/200, Loss: 0.11\n",
            "Epoch 9/200, Loss: 0.11\n",
            "Epoch 10/200, Loss: 0.11\n",
            "Epoch 11/200, Loss: 0.11\n",
            "Epoch 12/200, Loss: 0.11\n",
            "Epoch 13/200, Loss: 0.11\n",
            "Epoch 14/200, Loss: 0.11\n",
            "Epoch 15/200, Loss: 0.11\n",
            "Epoch 16/200, Loss: 0.10\n",
            "Epoch 17/200, Loss: 0.10\n",
            "Epoch 18/200, Loss: 0.10\n",
            "Epoch 19/200, Loss: 0.10\n",
            "Epoch 20/200, Loss: 0.10\n",
            "Epoch 21/200, Loss: 0.10\n",
            "Epoch 22/200, Loss: 0.10\n",
            "Epoch 23/200, Loss: 0.09\n",
            "Epoch 24/200, Loss: 0.09\n",
            "Epoch 25/200, Loss: 0.09\n",
            "Epoch 26/200, Loss: 0.09\n",
            "Epoch 27/200, Loss: 0.09\n",
            "Epoch 28/200, Loss: 0.09\n",
            "Epoch 29/200, Loss: 0.08\n",
            "Epoch 30/200, Loss: 0.08\n",
            "Epoch 31/200, Loss: 0.08\n",
            "Epoch 32/200, Loss: 0.08\n",
            "Epoch 33/200, Loss: 0.08\n",
            "Epoch 34/200, Loss: 0.07\n",
            "Epoch 35/200, Loss: 0.07\n",
            "Epoch 36/200, Loss: 0.07\n",
            "Epoch 37/200, Loss: 0.07\n",
            "Epoch 38/200, Loss: 0.07\n",
            "Epoch 39/200, Loss: 0.06\n",
            "Epoch 40/200, Loss: 0.06\n",
            "Epoch 41/200, Loss: 0.06\n",
            "Epoch 42/200, Loss: 0.06\n",
            "Epoch 43/200, Loss: 0.06\n",
            "Epoch 44/200, Loss: 0.05\n",
            "Epoch 45/200, Loss: 0.05\n",
            "Epoch 46/200, Loss: 0.05\n",
            "Epoch 47/200, Loss: 0.05\n",
            "Epoch 48/200, Loss: 0.05\n",
            "Epoch 49/200, Loss: 0.05\n",
            "Epoch 50/200, Loss: 0.05\n",
            "Epoch 51/200, Loss: 0.05\n",
            "Epoch 52/200, Loss: 0.05\n",
            "Epoch 53/200, Loss: 0.04\n",
            "Epoch 54/200, Loss: 0.04\n",
            "Epoch 55/200, Loss: 0.04\n",
            "Epoch 56/200, Loss: 0.04\n",
            "Epoch 57/200, Loss: 0.04\n",
            "Epoch 58/200, Loss: 0.04\n",
            "Epoch 59/200, Loss: 0.04\n",
            "Epoch 60/200, Loss: 0.04\n",
            "Epoch 61/200, Loss: 0.03\n",
            "Epoch 62/200, Loss: 0.03\n",
            "Epoch 63/200, Loss: 0.03\n",
            "Epoch 64/200, Loss: 0.03\n",
            "Epoch 65/200, Loss: 0.03\n",
            "Epoch 66/200, Loss: 0.03\n",
            "Epoch 67/200, Loss: 0.03\n",
            "Epoch 68/200, Loss: 0.03\n",
            "Epoch 69/200, Loss: 0.03\n",
            "Epoch 70/200, Loss: 0.03\n",
            "Epoch 71/200, Loss: 0.03\n",
            "Epoch 72/200, Loss: 0.02\n",
            "Epoch 73/200, Loss: 0.03\n",
            "Epoch 74/200, Loss: 0.02\n",
            "Epoch 75/200, Loss: 0.02\n",
            "Epoch 76/200, Loss: 0.02\n",
            "Epoch 77/200, Loss: 0.02\n",
            "Epoch 78/200, Loss: 0.02\n",
            "Epoch 79/200, Loss: 0.02\n",
            "Epoch 80/200, Loss: 0.02\n",
            "Epoch 81/200, Loss: 0.02\n",
            "Epoch 82/200, Loss: 0.03\n",
            "Epoch 83/200, Loss: 0.03\n",
            "Epoch 84/200, Loss: 0.02\n",
            "Epoch 85/200, Loss: 0.02\n",
            "Epoch 86/200, Loss: 0.02\n",
            "Epoch 87/200, Loss: 0.02\n",
            "Epoch 88/200, Loss: 0.02\n",
            "Epoch 89/200, Loss: 0.02\n",
            "Epoch 90/200, Loss: 0.02\n",
            "Epoch 91/200, Loss: 0.02\n",
            "Epoch 92/200, Loss: 0.02\n",
            "Epoch 93/200, Loss: 0.02\n",
            "Epoch 94/200, Loss: 0.02\n",
            "Epoch 95/200, Loss: 0.03\n",
            "Epoch 96/200, Loss: 0.02\n",
            "Epoch 97/200, Loss: 0.01\n",
            "Epoch 98/200, Loss: 0.02\n",
            "Epoch 99/200, Loss: 0.02\n",
            "Epoch 100/200, Loss: 0.02\n",
            "Epoch 101/200, Loss: 0.02\n",
            "Epoch 102/200, Loss: 0.02\n",
            "Epoch 103/200, Loss: 0.02\n",
            "Epoch 104/200, Loss: 0.02\n",
            "Epoch 105/200, Loss: 0.02\n",
            "Epoch 106/200, Loss: 0.01\n",
            "Epoch 107/200, Loss: 0.01\n",
            "Epoch 108/200, Loss: 0.01\n",
            "Epoch 109/200, Loss: 0.01\n",
            "Epoch 110/200, Loss: 0.01\n",
            "Epoch 111/200, Loss: 0.01\n",
            "Epoch 112/200, Loss: 0.02\n",
            "Epoch 113/200, Loss: 0.01\n",
            "Epoch 114/200, Loss: 0.01\n",
            "Epoch 115/200, Loss: 0.01\n",
            "Epoch 116/200, Loss: 0.01\n",
            "Epoch 117/200, Loss: 0.01\n",
            "Epoch 118/200, Loss: 0.01\n",
            "Epoch 119/200, Loss: 0.01\n",
            "Epoch 120/200, Loss: 0.02\n",
            "Epoch 121/200, Loss: 0.01\n",
            "Epoch 122/200, Loss: 0.01\n",
            "Epoch 123/200, Loss: 0.01\n",
            "Epoch 124/200, Loss: 0.01\n",
            "Epoch 125/200, Loss: 0.01\n",
            "Epoch 126/200, Loss: 0.01\n",
            "Epoch 127/200, Loss: 0.01\n",
            "Epoch 128/200, Loss: 0.01\n",
            "Epoch 129/200, Loss: 0.01\n",
            "Epoch 130/200, Loss: 0.01\n",
            "Epoch 131/200, Loss: 0.01\n",
            "Epoch 132/200, Loss: 0.01\n",
            "Epoch 133/200, Loss: 0.01\n",
            "Epoch 134/200, Loss: 0.01\n",
            "Epoch 135/200, Loss: 0.01\n",
            "Epoch 136/200, Loss: 0.01\n",
            "Epoch 137/200, Loss: 0.01\n",
            "Epoch 138/200, Loss: 0.01\n",
            "Epoch 139/200, Loss: 0.02\n",
            "Epoch 140/200, Loss: 0.01\n",
            "Epoch 141/200, Loss: 0.01\n",
            "Epoch 142/200, Loss: 0.01\n",
            "Epoch 143/200, Loss: 0.01\n",
            "Epoch 144/200, Loss: 0.01\n",
            "Epoch 145/200, Loss: 0.01\n",
            "Epoch 146/200, Loss: 0.01\n",
            "Epoch 147/200, Loss: 0.01\n",
            "Epoch 148/200, Loss: 0.01\n",
            "Epoch 149/200, Loss: 0.01\n",
            "Epoch 150/200, Loss: 0.01\n",
            "Epoch 151/200, Loss: 0.01\n",
            "Epoch 152/200, Loss: 0.01\n",
            "Epoch 153/200, Loss: 0.01\n",
            "Epoch 154/200, Loss: 0.01\n",
            "Epoch 155/200, Loss: 0.01\n",
            "Epoch 156/200, Loss: 0.01\n",
            "Epoch 157/200, Loss: 0.01\n",
            "Epoch 158/200, Loss: 0.01\n",
            "Epoch 159/200, Loss: 0.01\n",
            "Epoch 160/200, Loss: 0.01\n",
            "Epoch 161/200, Loss: 0.02\n",
            "Epoch 162/200, Loss: 0.01\n",
            "Epoch 163/200, Loss: 0.01\n",
            "Epoch 164/200, Loss: 0.01\n",
            "Epoch 165/200, Loss: 0.01\n",
            "Epoch 166/200, Loss: 0.01\n",
            "Epoch 167/200, Loss: 0.02\n",
            "Epoch 168/200, Loss: 0.02\n",
            "Epoch 169/200, Loss: 0.01\n",
            "Epoch 170/200, Loss: 0.01\n",
            "Epoch 171/200, Loss: 0.01\n",
            "Epoch 172/200, Loss: 0.01\n",
            "Epoch 173/200, Loss: 0.01\n",
            "Epoch 174/200, Loss: 0.01\n",
            "Epoch 175/200, Loss: 0.01\n",
            "Epoch 176/200, Loss: 0.01\n",
            "Epoch 177/200, Loss: 0.01\n",
            "Epoch 178/200, Loss: 0.01\n",
            "Epoch 179/200, Loss: 0.01\n",
            "Epoch 180/200, Loss: 0.01\n",
            "Epoch 181/200, Loss: 0.01\n",
            "Epoch 182/200, Loss: 0.01\n",
            "Epoch 183/200, Loss: 0.01\n",
            "Epoch 184/200, Loss: 0.01\n",
            "Epoch 185/200, Loss: 0.01\n",
            "Epoch 186/200, Loss: 0.01\n",
            "Epoch 187/200, Loss: 0.04\n",
            "Epoch 188/200, Loss: 0.01\n",
            "Epoch 189/200, Loss: 0.02\n",
            "Epoch 190/200, Loss: 0.01\n",
            "Epoch 191/200, Loss: 0.01\n",
            "Epoch 192/200, Loss: 0.01\n",
            "Epoch 193/200, Loss: 0.01\n",
            "Epoch 194/200, Loss: 0.01\n",
            "Epoch 195/200, Loss: 0.01\n",
            "Epoch 196/200, Loss: 0.01\n",
            "Epoch 197/200, Loss: 0.01\n",
            "Epoch 198/200, Loss: 0.01\n",
            "Epoch 199/200, Loss: 0.01\n",
            "Epoch 200/200, Loss: 0.01\n"
          ]
        }
      ]
    },
    {
      "cell_type": "code",
      "source": [
        "print('Logistic Regression (Train Accuracy)')\n",
        "model_evaluation(data_loader=train_loader_cake, model=clf_LR_1)"
      ],
      "metadata": {
        "colab": {
          "base_uri": "https://localhost:8080/"
        },
        "id": "oWynKbHGeUL8",
        "outputId": "5b83a2aa-f316-4a80-8d0c-60ad9a039d35"
      },
      "execution_count": 60,
      "outputs": [
        {
          "output_type": "stream",
          "name": "stdout",
          "text": [
            "Logistic Regression (Train Accuracy)\n",
            "We got 210/210 correct. Accuracy = 100.00%\n"
          ]
        }
      ]
    },
    {
      "cell_type": "code",
      "source": [
        "print('Logistic Regression (Test Accuracy)')\n",
        "model_evaluation(data_loader=test_loader_cake, model=clf_LR_1)"
      ],
      "metadata": {
        "colab": {
          "base_uri": "https://localhost:8080/"
        },
        "id": "qAsa2zXmeVXS",
        "outputId": "2842ae68-dbcd-4fe2-f9d1-76900475342b"
      },
      "execution_count": 61,
      "outputs": [
        {
          "output_type": "stream",
          "name": "stdout",
          "text": [
            "Logistic Regression (Test Accuracy)\n",
            "We got 85/90 correct. Accuracy = 94.44%\n"
          ]
        }
      ]
    },
    {
      "cell_type": "code",
      "source": [
        "print('Multi Layer Perceptron (Train Accuracy)')\n",
        "model_evaluation(train_loader_cake, clf_MLP_1)"
      ],
      "metadata": {
        "colab": {
          "base_uri": "https://localhost:8080/"
        },
        "outputId": "372e11e8-8a57-4abc-ad1f-db679c5a5115",
        "id": "C2QbwlkWf3Pp"
      },
      "execution_count": 62,
      "outputs": [
        {
          "output_type": "stream",
          "name": "stdout",
          "text": [
            "Multi Layer Perceptron (Train Accuracy)\n",
            "We got 202/210 correct. Accuracy = 96.19%\n"
          ]
        }
      ]
    },
    {
      "cell_type": "code",
      "source": [
        "print('Multi Layer Perceptron (Test Accuracy)')\n",
        "model_evaluation(test_loader_cake, clf_MLP_1)"
      ],
      "metadata": {
        "colab": {
          "base_uri": "https://localhost:8080/"
        },
        "outputId": "e890e234-5520-4e9d-c2ed-8fa2e46424fc",
        "id": "J15zi6Lzf3Pp"
      },
      "execution_count": 63,
      "outputs": [
        {
          "output_type": "stream",
          "name": "stdout",
          "text": [
            "Multi Layer Perceptron (Test Accuracy)\n",
            "We got 82/90 correct. Accuracy = 91.11%\n"
          ]
        }
      ]
    },
    {
      "cell_type": "code",
      "source": [
        "plt.plot(range(1, len(loss_each_epoch_MLP_1) + 1), loss_each_epoch_MLP_1)\n",
        "plt.xlabel('Epoch')\n",
        "plt.ylabel('Loss')\n",
        "plt.show()"
      ],
      "metadata": {
        "id": "nxa7Lp5WEk25",
        "colab": {
          "base_uri": "https://localhost:8080/",
          "height": 279
        },
        "outputId": "cafc1c77-4496-44b4-d78b-f7bf1016b2a6"
      },
      "execution_count": 64,
      "outputs": [
        {
          "output_type": "display_data",
          "data": {
            "text/plain": [
              "<Figure size 432x288 with 1 Axes>"
            ],
            "image/png": "[encoded data removed]"
          },
          "metadata": {
            "needs_background": "light"
          }
        }
      ]
    }
  ]
}
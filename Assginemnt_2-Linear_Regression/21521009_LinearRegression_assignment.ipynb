{
  "cells": [
    {
      "cell_type": "markdown",
      "metadata": {
        "id": "9NFhFNqfk9j6"
      },
      "source": [
        "Full Name: Nguyễn Nguyên Khôi\n",
        "\n",
        "Student ID: 21521009"
      ]
    },
    {
      "cell_type": "markdown",
      "metadata": {
        "id": "1Gb0yc6EnPok"
      },
      "source": [
        "**Experiment Requirements (for all datasets)**\n",
        "- Train - test splitting ratio = 7:3.\n",
        "- Random_state = 'Your Student ID'.\n",
        "- Experiment with **Gradient Descent** (*max_iter = 200*, *learning_rate (eta)* is set by yourself) and **Normal Equation**.\n",
        "- Visualize the cost trend (only for Gradient Descent)\n",
        "- Evaluation Metric: **R2 score**.\n",
        "- After completing all requirements, click on ‘Runtime’ and choose ‘Restart and run all’.\n",
        "- If the code is run without any errors (and the results are the same as before re-running), download the .ipybn file and submit. \n",
        "Otherwise, check the code carefully.\n"
      ]
    },
    {
      "cell_type": "markdown",
      "source": [
        "# PREPARATION"
      ],
      "metadata": {
        "id": "fhaxyjf0yvmX"
      }
    },
    {
      "cell_type": "markdown",
      "source": [
        "**IMPORT NECESSARY LIBRARIES**\n",
        "\n",
        "---\n",
        "\n"
      ],
      "metadata": {
        "id": "fIxGIv3Ht5UB"
      }
    },
    {
      "cell_type": "code",
      "execution_count": 88,
      "metadata": {
        "id": "tIHZOpLPhgOK"
      },
      "outputs": [],
      "source": [
        "import numpy as np\n",
        "import pandas as pd \n",
        "import seaborn as sns\n",
        "import matplotlib.pyplot as plt\n",
        "import statsmodels.api as sm\n",
        "import statsmodels.formula.api as smf\n",
        "from sklearn.linear_model import LinearRegression\n",
        "from sklearn.model_selection import train_test_split\n",
        "from sklearn.metrics import mean_squared_error, r2_score\n",
        "from sklearn.preprocessing import StandardScaler\n",
        "from google.colab import drive\n",
        "from sklearn.preprocessing import LabelEncoder"
      ]
    },
    {
      "cell_type": "markdown",
      "source": [
        "**DEFINE LINEAR REGRESSION IN GRADIENT DESCENT WAY**\n",
        "\n",
        "---\n",
        "\n"
      ],
      "metadata": {
        "id": "x5YINpp8dRv4"
      }
    },
    {
      "cell_type": "code",
      "execution_count": 89,
      "metadata": {
        "id": "O2nPYYY-OP-T"
      },
      "outputs": [],
      "source": [
        "# Linear Regression class\n",
        "class LinearRegression_GD:\n",
        "  def __init__ (self, eta = 0.001, max_iter = 20, random_state = 21521009):\n",
        "    self.eta = eta\n",
        "    self.max_iter = max_iter\n",
        "    self.random_state = random_state\n",
        "    self.w = None\n",
        "    self.costs = []\n",
        "\n",
        "  def predict(self, X):\n",
        "    return np.dot(X, self.w[1:]) + self.w[0]\n",
        "\n",
        "\n",
        "  def fit(self, X, y):\n",
        "   # y = np.reshape(y, (124, 1))\n",
        "   # print(X.shape)\n",
        "    rgen = np.random.RandomState(self.random_state)\n",
        "    self.w = rgen.normal(loc = 0.0, scale = 0.01, size = 1 + X.shape[1])\n",
        "   # print(self.w.shape)\n",
        "    self.costs = [ ]\n",
        "    for n_iters in range (self.max_iter):\n",
        "      y_pred = self.predict(X)\n",
        "      diff = y - y_pred\n",
        "    #  print(y.shape)\n",
        "      self.w[0] += self.eta * np.sum(diff)\n",
        "      for j in range(X.shape[1]): # j ← [0, 1, ..., X.shape[1]]\n",
        "        delta = 0.0\n",
        "        for i in range(X.shape[0]): # i ← [0, 1, ..., X.shape[0]]\n",
        "          delta += self.eta * diff[i] * X[i][j]\n",
        "        self.w[j + 1] += delta\n",
        "      cost = np.sum(diff ** 2) / 2\n",
        "      self.costs.append(cost)"
      ]
    },
    {
      "cell_type": "markdown",
      "metadata": {
        "id": "ee8hEbN7_UFM"
      },
      "source": [
        "**CONNECT TO GOOGLE DRIVE**\n",
        "\n",
        "---\n",
        "\n"
      ]
    },
    {
      "cell_type": "code",
      "execution_count": 90,
      "metadata": {
        "colab": {
          "base_uri": "https://localhost:8080/"
        },
        "id": "HO9-JeLdbg9q",
        "outputId": "fe1638f1-32cb-4a93-9627-b71b6c213508"
      },
      "outputs": [
        {
          "output_type": "stream",
          "name": "stdout",
          "text": [
            "Drive already mounted at /content/gdrive; to attempt to forcibly remount, call drive.mount(\"/content/gdrive\", force_remount=True).\n"
          ]
        }
      ],
      "source": [
        "# google drive mounting\n",
        "drive.mount('/content/gdrive')"
      ]
    },
    {
      "cell_type": "markdown",
      "metadata": {
        "id": "g9CgxY0ph1iF"
      },
      "source": [
        "# Fish Dataset"
      ]
    },
    {
      "cell_type": "markdown",
      "metadata": {
        "id": "wME5TQSziZPP"
      },
      "source": [
        "🐟🐟 **Dataset Information (fish.csv)** 🐟🐟\n",
        "- Weight: Weight of fish in gram\n",
        "- Length1: Vertical length in cm\n",
        "- Length2: Diagonal length in cm\n",
        "- Length3: Cross length in cm\n",
        "- Height: Height in cm\n",
        "- Width: Diagonal width in cm"
      ]
    },
    {
      "cell_type": "markdown",
      "metadata": {
        "id": "pj2frDFyistE"
      },
      "source": [
        "📚📚 **Problem Requirement** 📚📚\n",
        "\n",
        "Use all remaining attributes to estimate the **weight** of fish.\n"
      ]
    },
    {
      "cell_type": "markdown",
      "metadata": {
        "id": "-7KQpJK5kMHQ"
      },
      "source": [
        "**Note**: Try to make the Gradient Descent achieving the comparable performance to the Normal Equation model. ✌✌\n",
        "\n",
        "**Hint**💡: Apply (suitable) techniques in Data Preprocessing tutorial file."
      ]
    },
    {
      "cell_type": "code",
      "execution_count": 91,
      "metadata": {
        "id": "6NrbobRCcFnV"
      },
      "outputs": [],
      "source": [
        "# read data\n",
        "df=pd.read_csv('gdrive/My Drive/fish.csv')"
      ]
    },
    {
      "cell_type": "markdown",
      "source": [
        "**DATA PREPROCESSING**\n",
        "\n",
        "---\n",
        "\n"
      ],
      "metadata": {
        "id": "NHz57AB9eTjf"
      }
    },
    {
      "cell_type": "code",
      "execution_count": 92,
      "metadata": {
        "colab": {
          "base_uri": "https://localhost:8080/",
          "height": 363
        },
        "id": "-NRN55cVctDt",
        "outputId": "57b5c4cc-93ae-4ba5-f8f4-4ce0dd5a1c14"
      },
      "outputs": [
        {
          "output_type": "execute_result",
          "data": {
            "text/plain": [
              "   Weight  Length1  Length2  Length3   Height   Width\n",
              "0   242.0     23.2     25.4     30.0  11.5200  4.0200\n",
              "1   290.0     24.0     26.3     31.2  12.4800  4.3056\n",
              "2   340.0     23.9     26.5     31.1  12.3778  4.6961\n",
              "3   363.0     26.3     29.0     33.5  12.7300  4.4555\n",
              "4   430.0     26.5     29.0     34.0  12.4440  5.1340\n",
              "5   450.0     26.8     29.7     34.7  13.6024  4.9274\n",
              "6   500.0     26.8     29.7     34.5  14.1795  5.2785\n",
              "7   390.0     27.6     30.0     35.0  12.6700  4.6900\n",
              "8   450.0     27.6     30.0     35.1  14.0049  4.8438\n",
              "9   500.0     28.5     30.7     36.2  14.2266  4.9594"
            ],
            "text/html": [
              "\n",
              "  <div id=\"df-d1c17f29-6703-4186-b170-55af7d044f4d\">\n",
              "    <div class=\"colab-df-container\">\n",
              "      <div>\n",
              "<style scoped>\n",
              "    .dataframe tbody tr th:only-of-type {\n",
              "        vertical-align: middle;\n",
              "    }\n",
              "\n",
              "    .dataframe tbody tr th {\n",
              "        vertical-align: top;\n",
              "    }\n",
              "\n",
              "    .dataframe thead th {\n",
              "        text-align: right;\n",
              "    }\n",
              "</style>\n",
              "<table border=\"1\" class=\"dataframe\">\n",
              "  <thead>\n",
              "    <tr style=\"text-align: right;\">\n",
              "      <th></th>\n",
              "      <th>Weight</th>\n",
              "      <th>Length1</th>\n",
              "      <th>Length2</th>\n",
              "      <th>Length3</th>\n",
              "      <th>Height</th>\n",
              "      <th>Width</th>\n",
              "    </tr>\n",
              "  </thead>\n",
              "  <tbody>\n",
              "    <tr>\n",
              "      <th>0</th>\n",
              "      <td>242.0</td>\n",
              "      <td>23.2</td>\n",
              "      <td>25.4</td>\n",
              "      <td>30.0</td>\n",
              "      <td>11.5200</td>\n",
              "      <td>4.0200</td>\n",
              "    </tr>\n",
              "    <tr>\n",
              "      <th>1</th>\n",
              "      <td>290.0</td>\n",
              "      <td>24.0</td>\n",
              "      <td>26.3</td>\n",
              "      <td>31.2</td>\n",
              "      <td>12.4800</td>\n",
              "      <td>4.3056</td>\n",
              "    </tr>\n",
              "    <tr>\n",
              "      <th>2</th>\n",
              "      <td>340.0</td>\n",
              "      <td>23.9</td>\n",
              "      <td>26.5</td>\n",
              "      <td>31.1</td>\n",
              "      <td>12.3778</td>\n",
              "      <td>4.6961</td>\n",
              "    </tr>\n",
              "    <tr>\n",
              "      <th>3</th>\n",
              "      <td>363.0</td>\n",
              "      <td>26.3</td>\n",
              "      <td>29.0</td>\n",
              "      <td>33.5</td>\n",
              "      <td>12.7300</td>\n",
              "      <td>4.4555</td>\n",
              "    </tr>\n",
              "    <tr>\n",
              "      <th>4</th>\n",
              "      <td>430.0</td>\n",
              "      <td>26.5</td>\n",
              "      <td>29.0</td>\n",
              "      <td>34.0</td>\n",
              "      <td>12.4440</td>\n",
              "      <td>5.1340</td>\n",
              "    </tr>\n",
              "    <tr>\n",
              "      <th>5</th>\n",
              "      <td>450.0</td>\n",
              "      <td>26.8</td>\n",
              "      <td>29.7</td>\n",
              "      <td>34.7</td>\n",
              "      <td>13.6024</td>\n",
              "      <td>4.9274</td>\n",
              "    </tr>\n",
              "    <tr>\n",
              "      <th>6</th>\n",
              "      <td>500.0</td>\n",
              "      <td>26.8</td>\n",
              "      <td>29.7</td>\n",
              "      <td>34.5</td>\n",
              "      <td>14.1795</td>\n",
              "      <td>5.2785</td>\n",
              "    </tr>\n",
              "    <tr>\n",
              "      <th>7</th>\n",
              "      <td>390.0</td>\n",
              "      <td>27.6</td>\n",
              "      <td>30.0</td>\n",
              "      <td>35.0</td>\n",
              "      <td>12.6700</td>\n",
              "      <td>4.6900</td>\n",
              "    </tr>\n",
              "    <tr>\n",
              "      <th>8</th>\n",
              "      <td>450.0</td>\n",
              "      <td>27.6</td>\n",
              "      <td>30.0</td>\n",
              "      <td>35.1</td>\n",
              "      <td>14.0049</td>\n",
              "      <td>4.8438</td>\n",
              "    </tr>\n",
              "    <tr>\n",
              "      <th>9</th>\n",
              "      <td>500.0</td>\n",
              "      <td>28.5</td>\n",
              "      <td>30.7</td>\n",
              "      <td>36.2</td>\n",
              "      <td>14.2266</td>\n",
              "      <td>4.9594</td>\n",
              "    </tr>\n",
              "  </tbody>\n",
              "</table>\n",
              "</div>\n",
              "      <button class=\"colab-df-convert\" onclick=\"convertToInteractive('df-d1c17f29-6703-4186-b170-55af7d044f4d')\"\n",
              "              title=\"Convert this dataframe to an interactive table.\"\n",
              "              style=\"display:none;\">\n",
              "        \n",
              "  <svg xmlns=\"http://www.w3.org/2000/svg\" height=\"24px\"viewBox=\"0 0 24 24\"\n",
              "       width=\"24px\">\n",
              "    <path d=\"M0 0h24v24H0V0z\" fill=\"none\"/>\n",
              "    <path d=\"M18.56 5.44l.94 2.06.94-2.06 2.06-.94-2.06-.94-.94-2.06-.94 2.06-2.06.94zm-11 1L8.5 8.5l.94-2.06 2.06-.94-2.06-.94L8.5 2.5l-.94 2.06-2.06.94zm10 10l.94 2.06.94-2.06 2.06-.94-2.06-.94-.94-2.06-.94 2.06-2.06.94z\"/><path d=\"M17.41 7.96l-1.37-1.37c-.4-.4-.92-.59-1.43-.59-.52 0-1.04.2-1.43.59L10.3 9.45l-7.72 7.72c-.78.78-.78 2.05 0 2.83L4 21.41c.39.39.9.59 1.41.59.51 0 1.02-.2 1.41-.59l7.78-7.78 2.81-2.81c.8-.78.8-2.07 0-2.86zM5.41 20L4 18.59l7.72-7.72 1.47 1.35L5.41 20z\"/>\n",
              "  </svg>\n",
              "      </button>\n",
              "      \n",
              "  <style>\n",
              "    .colab-df-container {\n",
              "      display:flex;\n",
              "      flex-wrap:wrap;\n",
              "      gap: 12px;\n",
              "    }\n",
              "\n",
              "    .colab-df-convert {\n",
              "      background-color: #E8F0FE;\n",
              "      border: none;\n",
              "      border-radius: 50%;\n",
              "      cursor: pointer;\n",
              "      display: none;\n",
              "      fill: #1967D2;\n",
              "      height: 32px;\n",
              "      padding: 0 0 0 0;\n",
              "      width: 32px;\n",
              "    }\n",
              "\n",
              "    .colab-df-convert:hover {\n",
              "      background-color: #E2EBFA;\n",
              "      box-shadow: 0px 1px 2px rgba(60, 64, 67, 0.3), 0px 1px 3px 1px rgba(60, 64, 67, 0.15);\n",
              "      fill: #174EA6;\n",
              "    }\n",
              "\n",
              "    [theme=dark] .colab-df-convert {\n",
              "      background-color: #3B4455;\n",
              "      fill: #D2E3FC;\n",
              "    }\n",
              "\n",
              "    [theme=dark] .colab-df-convert:hover {\n",
              "      background-color: #434B5C;\n",
              "      box-shadow: 0px 1px 3px 1px rgba(0, 0, 0, 0.15);\n",
              "      filter: drop-shadow(0px 1px 2px rgba(0, 0, 0, 0.3));\n",
              "      fill: #FFFFFF;\n",
              "    }\n",
              "  </style>\n",
              "\n",
              "      <script>\n",
              "        const buttonEl =\n",
              "          document.querySelector('#df-d1c17f29-6703-4186-b170-55af7d044f4d button.colab-df-convert');\n",
              "        buttonEl.style.display =\n",
              "          google.colab.kernel.accessAllowed ? 'block' : 'none';\n",
              "\n",
              "        async function convertToInteractive(key) {\n",
              "          const element = document.querySelector('#df-d1c17f29-6703-4186-b170-55af7d044f4d');\n",
              "          const dataTable =\n",
              "            await google.colab.kernel.invokeFunction('convertToInteractive',\n",
              "                                                     [key], {});\n",
              "          if (!dataTable) return;\n",
              "\n",
              "          const docLinkHtml = 'Like what you see? Visit the ' +\n",
              "            '<a target=\"_blank\" href=https://colab.research.google.com/notebooks/data_table.ipynb>data table notebook</a>'\n",
              "            + ' to learn more about interactive tables.';\n",
              "          element.innerHTML = '';\n",
              "          dataTable['output_type'] = 'display_data';\n",
              "          await google.colab.output.renderOutput(dataTable, element);\n",
              "          const docLink = document.createElement('div');\n",
              "          docLink.innerHTML = docLinkHtml;\n",
              "          element.appendChild(docLink);\n",
              "        }\n",
              "      </script>\n",
              "    </div>\n",
              "  </div>\n",
              "  "
            ]
          },
          "metadata": {},
          "execution_count": 92
        }
      ],
      "source": [
        "# first 10 rows\n",
        "df.head(10)"
      ]
    },
    {
      "cell_type": "code",
      "execution_count": 93,
      "metadata": {
        "colab": {
          "base_uri": "https://localhost:8080/"
        },
        "id": "RbwdbnJ-c4Ak",
        "outputId": "fc373e05-0353-4cd9-a48d-fa69de291100"
      },
      "outputs": [
        {
          "output_type": "stream",
          "name": "stdout",
          "text": [
            "<class 'pandas.core.frame.DataFrame'>\n",
            "RangeIndex: 159 entries, 0 to 158\n",
            "Data columns (total 6 columns):\n",
            " #   Column   Non-Null Count  Dtype  \n",
            "---  ------   --------------  -----  \n",
            " 0   Weight   159 non-null    float64\n",
            " 1   Length1  159 non-null    float64\n",
            " 2   Length2  159 non-null    float64\n",
            " 3   Length3  159 non-null    float64\n",
            " 4   Height   159 non-null    float64\n",
            " 5   Width    159 non-null    float64\n",
            "dtypes: float64(6)\n",
            "memory usage: 7.6 KB\n"
          ]
        }
      ],
      "source": [
        "# basic information of the dataset\n",
        "df.info()"
      ]
    },
    {
      "cell_type": "code",
      "execution_count": 94,
      "metadata": {
        "colab": {
          "base_uri": "https://localhost:8080/",
          "height": 297
        },
        "id": "wa_EJJA_dSit",
        "outputId": "5fdd1bcd-499a-4006-9689-e91ced2a9ba2"
      },
      "outputs": [
        {
          "output_type": "execute_result",
          "data": {
            "text/plain": [
              "<matplotlib.axes._subplots.AxesSubplot at 0x7f1a2753f090>"
            ]
          },
          "metadata": {},
          "execution_count": 94
        },
        {
          "output_type": "display_data",
          "data": {
            "text/plain": [
              "<Figure size 432x288 with 1 Axes>"
            ],
            "image/png": "[encoded data removed]"
          },
          "metadata": {
            "needs_background": "light"
          }
        }
      ],
      "source": [
        "# indentify outliers\n",
        "sns.boxplot(x=df['Weight'])"
      ]
    },
    {
      "cell_type": "code",
      "execution_count": 95,
      "metadata": {
        "id": "PNzX27-YeqdY"
      },
      "outputs": [],
      "source": [
        "dfw = df['Weight']\n",
        "dfw_Q1 = dfw.quantile(0.25)\n",
        "dfw_Q3 = dfw.quantile(0.75)\n",
        "dfw_IQR = dfw_Q3 - dfw_Q1\n",
        "dfw_lowerend = dfw_Q1 - (1.5 * dfw_IQR)\n",
        "dfw_upperend = dfw_Q3 + (1.5 * dfw_IQR)"
      ]
    },
    {
      "cell_type": "code",
      "execution_count": 96,
      "metadata": {
        "colab": {
          "base_uri": "https://localhost:8080/"
        },
        "id": "7dO0l-w8evFu",
        "outputId": "c1a9d1b9-66bc-45ea-8c23-2f7f8ab6c564"
      },
      "outputs": [
        {
          "output_type": "execute_result",
          "data": {
            "text/plain": [
              "142    1600.0\n",
              "143    1550.0\n",
              "144    1650.0\n",
              "Name: Weight, dtype: float64"
            ]
          },
          "metadata": {},
          "execution_count": 96
        }
      ],
      "source": [
        "dfw_outliers = dfw[(dfw < dfw_lowerend) | (dfw > dfw_upperend)]\n",
        "dfw_outliers"
      ]
    },
    {
      "cell_type": "code",
      "execution_count": 97,
      "metadata": {
        "colab": {
          "base_uri": "https://localhost:8080/",
          "height": 297
        },
        "id": "veZx980-exzF",
        "outputId": "8857b2cb-a922-4a4a-ca51-77c4616a3636"
      },
      "outputs": [
        {
          "output_type": "execute_result",
          "data": {
            "text/plain": [
              "<matplotlib.axes._subplots.AxesSubplot at 0x7f1a2751f790>"
            ]
          },
          "metadata": {},
          "execution_count": 97
        },
        {
          "output_type": "display_data",
          "data": {
            "text/plain": [
              "<Figure size 432x288 with 1 Axes>"
            ],
            "image/png": "[encoded data removed]"
          },
          "metadata": {
            "needs_background": "light"
          }
        }
      ],
      "source": [
        "sns.boxplot(x=df['Length1'])"
      ]
    },
    {
      "cell_type": "code",
      "execution_count": 98,
      "metadata": {
        "colab": {
          "base_uri": "https://localhost:8080/"
        },
        "id": "aV-Hy-nLe7ih",
        "outputId": "eae3198e-1df8-4bed-dcc8-81b67f7407a6"
      },
      "outputs": [
        {
          "output_type": "execute_result",
          "data": {
            "text/plain": [
              "142    56.0\n",
              "143    56.0\n",
              "144    59.0\n",
              "Name: Length1, dtype: float64"
            ]
          },
          "metadata": {},
          "execution_count": 98
        }
      ],
      "source": [
        "dfl1 = df['Length1']\n",
        "dfl1_Q1 = dfl1.quantile(0.25)\n",
        "dfl1_Q3 = dfl1.quantile(0.75)\n",
        "dfl1_IQR = dfl1_Q3 - dfl1_Q1\n",
        "dfl1_lowerend = dfl1_Q1 - (1.5 * dfl1_IQR)\n",
        "dfl1_upperend = dfl1_Q3 + (1.5 * dfl1_IQR)\n",
        "\n",
        "dfl1_outliers = dfl1[(dfl1 < dfl1_lowerend) | (dfl1 > dfl1_upperend)]\n",
        "dfl1_outliers"
      ]
    },
    {
      "cell_type": "code",
      "execution_count": 99,
      "metadata": {
        "colab": {
          "base_uri": "https://localhost:8080/",
          "height": 297
        },
        "id": "AHdx-j5ofQW8",
        "outputId": "6de50ce1-9ea8-46af-b893-f71c4290afbd"
      },
      "outputs": [
        {
          "output_type": "execute_result",
          "data": {
            "text/plain": [
              "<matplotlib.axes._subplots.AxesSubplot at 0x7f1a27493390>"
            ]
          },
          "metadata": {},
          "execution_count": 99
        },
        {
          "output_type": "display_data",
          "data": {
            "text/plain": [
              "<Figure size 432x288 with 1 Axes>"
            ],
            "image/png": "[encoded data removed]"
          },
          "metadata": {
            "needs_background": "light"
          }
        }
      ],
      "source": [
        "sns.boxplot(x=df['Length2'])"
      ]
    },
    {
      "cell_type": "code",
      "execution_count": 100,
      "metadata": {
        "colab": {
          "base_uri": "https://localhost:8080/"
        },
        "id": "XPAfQBObfUXn",
        "outputId": "1305042d-9947-4b15-9861-6fd976d77c74"
      },
      "outputs": [
        {
          "output_type": "execute_result",
          "data": {
            "text/plain": [
              "142    60.0\n",
              "143    60.0\n",
              "144    63.4\n",
              "Name: Length2, dtype: float64"
            ]
          },
          "metadata": {},
          "execution_count": 100
        }
      ],
      "source": [
        "dfl2 = df['Length2']\n",
        "dfl2_Q1 = dfl2.quantile(0.25)\n",
        "dfl2_Q3 = dfl2.quantile(0.75)\n",
        "dfl2_IQR = dfl2_Q3 - dfl2_Q1\n",
        "dfl2_lowerend = dfl2_Q1 - (1.5 * dfl2_IQR)\n",
        "dfl2_upperend = dfl2_Q3 + (1.5 * dfl2_IQR)\n",
        "\n",
        "dfl2_outliers = dfl2[(dfl2 < dfl2_lowerend) | (dfl2 > dfl2_upperend)]\n",
        "dfl2_outliers"
      ]
    },
    {
      "cell_type": "code",
      "execution_count": 101,
      "metadata": {
        "colab": {
          "base_uri": "https://localhost:8080/",
          "height": 297
        },
        "id": "iKSYM0TGfu1m",
        "outputId": "1bd34fb8-e8f5-4a9d-fcea-bbb021c558f7"
      },
      "outputs": [
        {
          "output_type": "execute_result",
          "data": {
            "text/plain": [
              "<matplotlib.axes._subplots.AxesSubplot at 0x7f1a273f9510>"
            ]
          },
          "metadata": {},
          "execution_count": 101
        },
        {
          "output_type": "display_data",
          "data": {
            "text/plain": [
              "<Figure size 432x288 with 1 Axes>"
            ],
            "image/png": "[encoded data removed]"
          },
          "metadata": {
            "needs_background": "light"
          }
        }
      ],
      "source": [
        "sns.boxplot(x=df['Length3'])"
      ]
    },
    {
      "cell_type": "code",
      "execution_count": 102,
      "metadata": {
        "colab": {
          "base_uri": "https://localhost:8080/"
        },
        "id": "TrXobObGf10F",
        "outputId": "69b61149-b498-4de7-a7d3-458124875302"
      },
      "outputs": [
        {
          "output_type": "execute_result",
          "data": {
            "text/plain": [
              "144    68.0\n",
              "Name: Length3, dtype: float64"
            ]
          },
          "metadata": {},
          "execution_count": 102
        }
      ],
      "source": [
        "dfl3 = df['Length3']\n",
        "dfl3_Q1 = dfl3.quantile(0.25)\n",
        "dfl3_Q3 = dfl3.quantile(0.75)\n",
        "dfl3_IQR = dfl3_Q3 - dfl3_Q1\n",
        "dfl3_lowerend = dfl3_Q1 - (1.5 * dfl3_IQR)\n",
        "dfl3_upperend = dfl3_Q3 + (1.5 * dfl3_IQR)\n",
        "\n",
        "dfl3_outliers = dfl3[(dfl3 < dfl3_lowerend) | (dfl3 > dfl3_upperend)]\n",
        "dfl3_outliers"
      ]
    },
    {
      "cell_type": "markdown",
      "metadata": {
        "id": "WgjcKyFagVkD"
      },
      "source": [
        "**OUTLIERS OF THE DATASET LIE AT ROW 142, 143 AND 144**"
      ]
    },
    {
      "cell_type": "code",
      "execution_count": 103,
      "metadata": {
        "colab": {
          "base_uri": "https://localhost:8080/",
          "height": 143
        },
        "id": "AC1tCVs_gOzH",
        "outputId": "1b6df462-0c11-4a5e-f00e-557a3349b922"
      },
      "outputs": [
        {
          "output_type": "execute_result",
          "data": {
            "text/plain": [
              "     Weight  Length1  Length2  Length3  Height  Width\n",
              "142  1600.0     56.0     60.0     64.0   9.600  6.144\n",
              "143  1550.0     56.0     60.0     64.0   9.600  6.144\n",
              "144  1650.0     59.0     63.4     68.0  10.812  7.480"
            ],
            "text/html": [
              "\n",
              "  <div id=\"df-50ed598b-737d-4f0a-971c-51e1ad19229e\">\n",
              "    <div class=\"colab-df-container\">\n",
              "      <div>\n",
              "<style scoped>\n",
              "    .dataframe tbody tr th:only-of-type {\n",
              "        vertical-align: middle;\n",
              "    }\n",
              "\n",
              "    .dataframe tbody tr th {\n",
              "        vertical-align: top;\n",
              "    }\n",
              "\n",
              "    .dataframe thead th {\n",
              "        text-align: right;\n",
              "    }\n",
              "</style>\n",
              "<table border=\"1\" class=\"dataframe\">\n",
              "  <thead>\n",
              "    <tr style=\"text-align: right;\">\n",
              "      <th></th>\n",
              "      <th>Weight</th>\n",
              "      <th>Length1</th>\n",
              "      <th>Length2</th>\n",
              "      <th>Length3</th>\n",
              "      <th>Height</th>\n",
              "      <th>Width</th>\n",
              "    </tr>\n",
              "  </thead>\n",
              "  <tbody>\n",
              "    <tr>\n",
              "      <th>142</th>\n",
              "      <td>1600.0</td>\n",
              "      <td>56.0</td>\n",
              "      <td>60.0</td>\n",
              "      <td>64.0</td>\n",
              "      <td>9.600</td>\n",
              "      <td>6.144</td>\n",
              "    </tr>\n",
              "    <tr>\n",
              "      <th>143</th>\n",
              "      <td>1550.0</td>\n",
              "      <td>56.0</td>\n",
              "      <td>60.0</td>\n",
              "      <td>64.0</td>\n",
              "      <td>9.600</td>\n",
              "      <td>6.144</td>\n",
              "    </tr>\n",
              "    <tr>\n",
              "      <th>144</th>\n",
              "      <td>1650.0</td>\n",
              "      <td>59.0</td>\n",
              "      <td>63.4</td>\n",
              "      <td>68.0</td>\n",
              "      <td>10.812</td>\n",
              "      <td>7.480</td>\n",
              "    </tr>\n",
              "  </tbody>\n",
              "</table>\n",
              "</div>\n",
              "      <button class=\"colab-df-convert\" onclick=\"convertToInteractive('df-50ed598b-737d-4f0a-971c-51e1ad19229e')\"\n",
              "              title=\"Convert this dataframe to an interactive table.\"\n",
              "              style=\"display:none;\">\n",
              "        \n",
              "  <svg xmlns=\"http://www.w3.org/2000/svg\" height=\"24px\"viewBox=\"0 0 24 24\"\n",
              "       width=\"24px\">\n",
              "    <path d=\"M0 0h24v24H0V0z\" fill=\"none\"/>\n",
              "    <path d=\"M18.56 5.44l.94 2.06.94-2.06 2.06-.94-2.06-.94-.94-2.06-.94 2.06-2.06.94zm-11 1L8.5 8.5l.94-2.06 2.06-.94-2.06-.94L8.5 2.5l-.94 2.06-2.06.94zm10 10l.94 2.06.94-2.06 2.06-.94-2.06-.94-.94-2.06-.94 2.06-2.06.94z\"/><path d=\"M17.41 7.96l-1.37-1.37c-.4-.4-.92-.59-1.43-.59-.52 0-1.04.2-1.43.59L10.3 9.45l-7.72 7.72c-.78.78-.78 2.05 0 2.83L4 21.41c.39.39.9.59 1.41.59.51 0 1.02-.2 1.41-.59l7.78-7.78 2.81-2.81c.8-.78.8-2.07 0-2.86zM5.41 20L4 18.59l7.72-7.72 1.47 1.35L5.41 20z\"/>\n",
              "  </svg>\n",
              "      </button>\n",
              "      \n",
              "  <style>\n",
              "    .colab-df-container {\n",
              "      display:flex;\n",
              "      flex-wrap:wrap;\n",
              "      gap: 12px;\n",
              "    }\n",
              "\n",
              "    .colab-df-convert {\n",
              "      background-color: #E8F0FE;\n",
              "      border: none;\n",
              "      border-radius: 50%;\n",
              "      cursor: pointer;\n",
              "      display: none;\n",
              "      fill: #1967D2;\n",
              "      height: 32px;\n",
              "      padding: 0 0 0 0;\n",
              "      width: 32px;\n",
              "    }\n",
              "\n",
              "    .colab-df-convert:hover {\n",
              "      background-color: #E2EBFA;\n",
              "      box-shadow: 0px 1px 2px rgba(60, 64, 67, 0.3), 0px 1px 3px 1px rgba(60, 64, 67, 0.15);\n",
              "      fill: #174EA6;\n",
              "    }\n",
              "\n",
              "    [theme=dark] .colab-df-convert {\n",
              "      background-color: #3B4455;\n",
              "      fill: #D2E3FC;\n",
              "    }\n",
              "\n",
              "    [theme=dark] .colab-df-convert:hover {\n",
              "      background-color: #434B5C;\n",
              "      box-shadow: 0px 1px 3px 1px rgba(0, 0, 0, 0.15);\n",
              "      filter: drop-shadow(0px 1px 2px rgba(0, 0, 0, 0.3));\n",
              "      fill: #FFFFFF;\n",
              "    }\n",
              "  </style>\n",
              "\n",
              "      <script>\n",
              "        const buttonEl =\n",
              "          document.querySelector('#df-50ed598b-737d-4f0a-971c-51e1ad19229e button.colab-df-convert');\n",
              "        buttonEl.style.display =\n",
              "          google.colab.kernel.accessAllowed ? 'block' : 'none';\n",
              "\n",
              "        async function convertToInteractive(key) {\n",
              "          const element = document.querySelector('#df-50ed598b-737d-4f0a-971c-51e1ad19229e');\n",
              "          const dataTable =\n",
              "            await google.colab.kernel.invokeFunction('convertToInteractive',\n",
              "                                                     [key], {});\n",
              "          if (!dataTable) return;\n",
              "\n",
              "          const docLinkHtml = 'Like what you see? Visit the ' +\n",
              "            '<a target=\"_blank\" href=https://colab.research.google.com/notebooks/data_table.ipynb>data table notebook</a>'\n",
              "            + ' to learn more about interactive tables.';\n",
              "          element.innerHTML = '';\n",
              "          dataTable['output_type'] = 'display_data';\n",
              "          await google.colab.output.renderOutput(dataTable, element);\n",
              "          const docLink = document.createElement('div');\n",
              "          docLink.innerHTML = docLinkHtml;\n",
              "          element.appendChild(docLink);\n",
              "        }\n",
              "      </script>\n",
              "    </div>\n",
              "  </div>\n",
              "  "
            ]
          },
          "metadata": {},
          "execution_count": 103
        }
      ],
      "source": [
        "df[142:145]"
      ]
    },
    {
      "cell_type": "code",
      "execution_count": 104,
      "metadata": {
        "colab": {
          "base_uri": "https://localhost:8080/",
          "height": 237
        },
        "id": "3PnL0fo0ghn_",
        "outputId": "20c2d8d9-532f-44e6-b566-d876f00a3f14"
      },
      "outputs": [
        {
          "output_type": "execute_result",
          "data": {
            "text/plain": [
              "         count        mean         std     min         25%       50%  \\\n",
              "Weight   156.0  375.217308  319.546978  0.0000  120.000000  271.0000   \n",
              "Length1  156.0   25.655769    9.119630  7.5000   19.000000   25.0000   \n",
              "Length2  156.0   27.786538    9.792651  8.4000   21.000000   26.7500   \n",
              "Length3  156.0   30.571154   10.695359  8.8000   23.025000   29.2500   \n",
              "Height   156.0    8.951128    4.324325  1.7284    5.931675    7.6478   \n",
              "Width    156.0    4.375719    1.672188  1.0476    3.369600    4.2433   \n",
              "\n",
              "                75%       max  \n",
              "Weight   612.500000  1250.000  \n",
              "Length1   32.125000    52.000  \n",
              "Length2   35.000000    56.000  \n",
              "Length3   39.425000    59.700  \n",
              "Height    12.378550    18.957  \n",
              "Width      5.424375     8.142  "
            ],
            "text/html": [
              "\n",
              "  <div id=\"df-6047d96d-33ee-4866-9395-adac2fdc6bb8\">\n",
              "    <div class=\"colab-df-container\">\n",
              "      <div>\n",
              "<style scoped>\n",
              "    .dataframe tbody tr th:only-of-type {\n",
              "        vertical-align: middle;\n",
              "    }\n",
              "\n",
              "    .dataframe tbody tr th {\n",
              "        vertical-align: top;\n",
              "    }\n",
              "\n",
              "    .dataframe thead th {\n",
              "        text-align: right;\n",
              "    }\n",
              "</style>\n",
              "<table border=\"1\" class=\"dataframe\">\n",
              "  <thead>\n",
              "    <tr style=\"text-align: right;\">\n",
              "      <th></th>\n",
              "      <th>count</th>\n",
              "      <th>mean</th>\n",
              "      <th>std</th>\n",
              "      <th>min</th>\n",
              "      <th>25%</th>\n",
              "      <th>50%</th>\n",
              "      <th>75%</th>\n",
              "      <th>max</th>\n",
              "    </tr>\n",
              "  </thead>\n",
              "  <tbody>\n",
              "    <tr>\n",
              "      <th>Weight</th>\n",
              "      <td>156.0</td>\n",
              "      <td>375.217308</td>\n",
              "      <td>319.546978</td>\n",
              "      <td>0.0000</td>\n",
              "      <td>120.000000</td>\n",
              "      <td>271.0000</td>\n",
              "      <td>612.500000</td>\n",
              "      <td>1250.000</td>\n",
              "    </tr>\n",
              "    <tr>\n",
              "      <th>Length1</th>\n",
              "      <td>156.0</td>\n",
              "      <td>25.655769</td>\n",
              "      <td>9.119630</td>\n",
              "      <td>7.5000</td>\n",
              "      <td>19.000000</td>\n",
              "      <td>25.0000</td>\n",
              "      <td>32.125000</td>\n",
              "      <td>52.000</td>\n",
              "    </tr>\n",
              "    <tr>\n",
              "      <th>Length2</th>\n",
              "      <td>156.0</td>\n",
              "      <td>27.786538</td>\n",
              "      <td>9.792651</td>\n",
              "      <td>8.4000</td>\n",
              "      <td>21.000000</td>\n",
              "      <td>26.7500</td>\n",
              "      <td>35.000000</td>\n",
              "      <td>56.000</td>\n",
              "    </tr>\n",
              "    <tr>\n",
              "      <th>Length3</th>\n",
              "      <td>156.0</td>\n",
              "      <td>30.571154</td>\n",
              "      <td>10.695359</td>\n",
              "      <td>8.8000</td>\n",
              "      <td>23.025000</td>\n",
              "      <td>29.2500</td>\n",
              "      <td>39.425000</td>\n",
              "      <td>59.700</td>\n",
              "    </tr>\n",
              "    <tr>\n",
              "      <th>Height</th>\n",
              "      <td>156.0</td>\n",
              "      <td>8.951128</td>\n",
              "      <td>4.324325</td>\n",
              "      <td>1.7284</td>\n",
              "      <td>5.931675</td>\n",
              "      <td>7.6478</td>\n",
              "      <td>12.378550</td>\n",
              "      <td>18.957</td>\n",
              "    </tr>\n",
              "    <tr>\n",
              "      <th>Width</th>\n",
              "      <td>156.0</td>\n",
              "      <td>4.375719</td>\n",
              "      <td>1.672188</td>\n",
              "      <td>1.0476</td>\n",
              "      <td>3.369600</td>\n",
              "      <td>4.2433</td>\n",
              "      <td>5.424375</td>\n",
              "      <td>8.142</td>\n",
              "    </tr>\n",
              "  </tbody>\n",
              "</table>\n",
              "</div>\n",
              "      <button class=\"colab-df-convert\" onclick=\"convertToInteractive('df-6047d96d-33ee-4866-9395-adac2fdc6bb8')\"\n",
              "              title=\"Convert this dataframe to an interactive table.\"\n",
              "              style=\"display:none;\">\n",
              "        \n",
              "  <svg xmlns=\"http://www.w3.org/2000/svg\" height=\"24px\"viewBox=\"0 0 24 24\"\n",
              "       width=\"24px\">\n",
              "    <path d=\"M0 0h24v24H0V0z\" fill=\"none\"/>\n",
              "    <path d=\"M18.56 5.44l.94 2.06.94-2.06 2.06-.94-2.06-.94-.94-2.06-.94 2.06-2.06.94zm-11 1L8.5 8.5l.94-2.06 2.06-.94-2.06-.94L8.5 2.5l-.94 2.06-2.06.94zm10 10l.94 2.06.94-2.06 2.06-.94-2.06-.94-.94-2.06-.94 2.06-2.06.94z\"/><path d=\"M17.41 7.96l-1.37-1.37c-.4-.4-.92-.59-1.43-.59-.52 0-1.04.2-1.43.59L10.3 9.45l-7.72 7.72c-.78.78-.78 2.05 0 2.83L4 21.41c.39.39.9.59 1.41.59.51 0 1.02-.2 1.41-.59l7.78-7.78 2.81-2.81c.8-.78.8-2.07 0-2.86zM5.41 20L4 18.59l7.72-7.72 1.47 1.35L5.41 20z\"/>\n",
              "  </svg>\n",
              "      </button>\n",
              "      \n",
              "  <style>\n",
              "    .colab-df-container {\n",
              "      display:flex;\n",
              "      flex-wrap:wrap;\n",
              "      gap: 12px;\n",
              "    }\n",
              "\n",
              "    .colab-df-convert {\n",
              "      background-color: #E8F0FE;\n",
              "      border: none;\n",
              "      border-radius: 50%;\n",
              "      cursor: pointer;\n",
              "      display: none;\n",
              "      fill: #1967D2;\n",
              "      height: 32px;\n",
              "      padding: 0 0 0 0;\n",
              "      width: 32px;\n",
              "    }\n",
              "\n",
              "    .colab-df-convert:hover {\n",
              "      background-color: #E2EBFA;\n",
              "      box-shadow: 0px 1px 2px rgba(60, 64, 67, 0.3), 0px 1px 3px 1px rgba(60, 64, 67, 0.15);\n",
              "      fill: #174EA6;\n",
              "    }\n",
              "\n",
              "    [theme=dark] .colab-df-convert {\n",
              "      background-color: #3B4455;\n",
              "      fill: #D2E3FC;\n",
              "    }\n",
              "\n",
              "    [theme=dark] .colab-df-convert:hover {\n",
              "      background-color: #434B5C;\n",
              "      box-shadow: 0px 1px 3px 1px rgba(0, 0, 0, 0.15);\n",
              "      filter: drop-shadow(0px 1px 2px rgba(0, 0, 0, 0.3));\n",
              "      fill: #FFFFFF;\n",
              "    }\n",
              "  </style>\n",
              "\n",
              "      <script>\n",
              "        const buttonEl =\n",
              "          document.querySelector('#df-6047d96d-33ee-4866-9395-adac2fdc6bb8 button.colab-df-convert');\n",
              "        buttonEl.style.display =\n",
              "          google.colab.kernel.accessAllowed ? 'block' : 'none';\n",
              "\n",
              "        async function convertToInteractive(key) {\n",
              "          const element = document.querySelector('#df-6047d96d-33ee-4866-9395-adac2fdc6bb8');\n",
              "          const dataTable =\n",
              "            await google.colab.kernel.invokeFunction('convertToInteractive',\n",
              "                                                     [key], {});\n",
              "          if (!dataTable) return;\n",
              "\n",
              "          const docLinkHtml = 'Like what you see? Visit the ' +\n",
              "            '<a target=\"_blank\" href=https://colab.research.google.com/notebooks/data_table.ipynb>data table notebook</a>'\n",
              "            + ' to learn more about interactive tables.';\n",
              "          element.innerHTML = '';\n",
              "          dataTable['output_type'] = 'display_data';\n",
              "          await google.colab.output.renderOutput(dataTable, element);\n",
              "          const docLink = document.createElement('div');\n",
              "          docLink.innerHTML = docLinkHtml;\n",
              "          element.appendChild(docLink);\n",
              "        }\n",
              "      </script>\n",
              "    </div>\n",
              "  </div>\n",
              "  "
            ]
          },
          "metadata": {},
          "execution_count": 104
        }
      ],
      "source": [
        "# drop outliers\n",
        "df1 = df.drop([142,143,144])\n",
        "df1.describe().T"
      ]
    },
    {
      "cell_type": "code",
      "source": [
        "std_scaler = StandardScaler()\n",
        "df1 = std_scaler.fit_transform(df1)"
      ],
      "metadata": {
        "id": "IURqNdD048l_"
      },
      "execution_count": 105,
      "outputs": []
    },
    {
      "cell_type": "code",
      "source": [
        "X = df1[:,1:]"
      ],
      "metadata": {
        "id": "N_ywLRjP8Lzq"
      },
      "execution_count": 106,
      "outputs": []
    },
    {
      "cell_type": "code",
      "execution_count": 107,
      "metadata": {
        "id": "YMQ6xTMPWIfP"
      },
      "outputs": [],
      "source": [
        "y = df1[:,0]"
      ]
    },
    {
      "cell_type": "code",
      "source": [
        "y.shape"
      ],
      "metadata": {
        "colab": {
          "base_uri": "https://localhost:8080/"
        },
        "id": "o_04ekwWeHY8",
        "outputId": "b1d0e32b-6971-48b3-bc5f-0f9e1639a3c7"
      },
      "execution_count": 108,
      "outputs": [
        {
          "output_type": "execute_result",
          "data": {
            "text/plain": [
              "(156,)"
            ]
          },
          "metadata": {},
          "execution_count": 108
        }
      ]
    },
    {
      "cell_type": "markdown",
      "metadata": {
        "id": "fr0ReLV8ZyTH"
      },
      "source": [
        "**SPLITTING DATASET**\n",
        "\n",
        "---\n",
        "\n"
      ]
    },
    {
      "cell_type": "code",
      "execution_count": 109,
      "metadata": {
        "id": "UcaV48O_cB6u"
      },
      "outputs": [],
      "source": [
        "X_train, X_test, y_train, y_test = train_test_split(X, y, test_size=0.2, random_state=21521009)"
      ]
    },
    {
      "cell_type": "code",
      "source": [
        "X_train.shape"
      ],
      "metadata": {
        "colab": {
          "base_uri": "https://localhost:8080/"
        },
        "id": "aMkrRTDg2nh8",
        "outputId": "6e725fe3-a730-4ba6-a2a6-90bd448bd8e6"
      },
      "execution_count": 110,
      "outputs": [
        {
          "output_type": "execute_result",
          "data": {
            "text/plain": [
              "(124, 5)"
            ]
          },
          "metadata": {},
          "execution_count": 110
        }
      ]
    },
    {
      "cell_type": "code",
      "execution_count": 111,
      "metadata": {
        "colab": {
          "base_uri": "https://localhost:8080/"
        },
        "id": "5kVFhpZdau35",
        "outputId": "1e2a9d90-f4f9-4117-da96-c104ce720478"
      },
      "outputs": [
        {
          "output_type": "stream",
          "name": "stdout",
          "text": [
            "How many samples do we have in our test and train datasets?\n",
            "X_train:  (124, 5)\n",
            "y_train:  (124,)\n",
            "X_test:  (32, 5)\n",
            "y_test:  (32,)\n"
          ]
        }
      ],
      "source": [
        "print('How many samples do we have in our test and train datasets?')\n",
        "print('X_train: ', np.shape(X_train))\n",
        "print('y_train: ', np.shape(y_train))\n",
        "print('X_test: ', np.shape(X_test))\n",
        "print('y_test: ', np.shape(y_test))"
      ]
    },
    {
      "cell_type": "markdown",
      "metadata": {
        "id": "S7ppD4vbcSGj"
      },
      "source": [
        "**TRAINING USING NORMAL EQUATION**\n",
        "\n",
        "---\n",
        "\n"
      ]
    },
    {
      "cell_type": "code",
      "execution_count": 112,
      "metadata": {
        "colab": {
          "base_uri": "https://localhost:8080/"
        },
        "id": "d48V_z7RcXFF",
        "outputId": "c1e13af9-39ba-47e1-92a1-fdd9e3e5a575"
      },
      "outputs": [
        {
          "output_type": "execute_result",
          "data": {
            "text/plain": [
              "LinearRegression()"
            ]
          },
          "metadata": {},
          "execution_count": 112
        }
      ],
      "source": [
        "reg = LinearRegression()\n",
        "reg.fit(X_train,y_train)"
      ]
    },
    {
      "cell_type": "code",
      "execution_count": 113,
      "metadata": {
        "colab": {
          "base_uri": "https://localhost:8080/"
        },
        "id": "vHZNDBl9cZ1_",
        "outputId": "491ffa4a-6a47-4ab6-ead9-0414e63740a0"
      },
      "outputs": [
        {
          "output_type": "stream",
          "name": "stdout",
          "text": [
            "Model intercept:  -0.01890628282474344\n",
            "Model coefficients:  [ 3.11877446 -1.53359785 -1.32828414  0.52917673  0.2572183 ]\n"
          ]
        }
      ],
      "source": [
        "print('Model intercept: ', reg.intercept_)\n",
        "print('Model coefficients: ', reg.coef_)"
      ]
    },
    {
      "cell_type": "markdown",
      "metadata": {
        "id": "dABQoh0uOQ__"
      },
      "source": [
        "**TRAINING USING GRADIENT DESCENT**\n",
        "\n",
        "---\n",
        "\n"
      ]
    },
    {
      "cell_type": "code",
      "execution_count": 114,
      "metadata": {
        "id": "0NwrZJr5VoaM"
      },
      "outputs": [],
      "source": [
        "reg_GD = LinearRegression_GD(eta = 0.001, max_iter = 200, random_state=21521009)\n",
        "reg_GD.fit(X_train, y_train)"
      ]
    },
    {
      "cell_type": "code",
      "execution_count": 115,
      "metadata": {
        "colab": {
          "base_uri": "https://localhost:8080/"
        },
        "id": "bCfBy_Igl-OW",
        "outputId": "ade91b1d-ba10-4c3a-eb77-2c3b2f2132eb"
      },
      "outputs": [
        {
          "output_type": "stream",
          "name": "stdout",
          "text": [
            "[-0.00584719  0.17363829  0.14441298  0.02955298  0.21276342  0.40825282]\n"
          ]
        }
      ],
      "source": [
        "print(reg_GD.w)"
      ]
    },
    {
      "cell_type": "code",
      "source": [
        "plt.plot(range(1, len(reg_GD.costs) + 1), reg_GD.costs)\n",
        "plt.xlabel(\"Epochs\")\n",
        "plt.ylabel(\"Cost\")\n",
        "plt.title(\"Gradient Descent\")\n",
        "plt.show()"
      ],
      "metadata": {
        "id": "pYXId45VZ4O9",
        "colab": {
          "base_uri": "https://localhost:8080/",
          "height": 295
        },
        "outputId": "54ea4e30-392e-407f-9683-507ca63ebf3d"
      },
      "execution_count": 116,
      "outputs": [
        {
          "output_type": "display_data",
          "data": {
            "text/plain": [
              "<Figure size 432x288 with 1 Axes>"
            ],
            "image/png": "[encoded data removed]"
          },
          "metadata": {
            "needs_background": "light"
          }
        }
      ]
    },
    {
      "cell_type": "markdown",
      "source": [
        "**COMPARING NORMAL EQUATION TO GRADIENT DESCENT**\n",
        "\n",
        "---\n",
        "\n"
      ],
      "metadata": {
        "id": "fbpXHgGgueTu"
      }
    },
    {
      "cell_type": "markdown",
      "source": [
        "TRAINING DATASET"
      ],
      "metadata": {
        "id": "402nuc5-urC9"
      }
    },
    {
      "cell_type": "code",
      "source": [
        "# normal equation\n",
        "y_train_pred1 = reg.predict(X_train)\n",
        "score1 = r2_score(y_train_pred1, y_train)\n",
        "score1"
      ],
      "metadata": {
        "colab": {
          "base_uri": "https://localhost:8080/"
        },
        "id": "0QAs3idy-fd_",
        "outputId": "73f40123-8111-43b9-8805-ae34d92ca079"
      },
      "execution_count": 117,
      "outputs": [
        {
          "output_type": "execute_result",
          "data": {
            "text/plain": [
              "0.8936562995163353"
            ]
          },
          "metadata": {},
          "execution_count": 117
        }
      ]
    },
    {
      "cell_type": "code",
      "source": [
        "# gradient descent\n",
        "y_train_pred2 = reg_GD.predict(X_train)\n",
        "score2 = r2_score(y_train_pred2, y_train)\n",
        "score2"
      ],
      "metadata": {
        "colab": {
          "base_uri": "https://localhost:8080/"
        },
        "id": "dhvDTpvm-AIN",
        "outputId": "cfc5c718-6514-4c9b-c3d2-a61b8de1c53e"
      },
      "execution_count": 118,
      "outputs": [
        {
          "output_type": "execute_result",
          "data": {
            "text/plain": [
              "0.879257223405448"
            ]
          },
          "metadata": {},
          "execution_count": 118
        }
      ]
    },
    {
      "cell_type": "code",
      "source": [
        "# difference in %\n",
        "print(\"Difference:\",round((score1 - score2), 5) * 100, \"%\")"
      ],
      "metadata": {
        "colab": {
          "base_uri": "https://localhost:8080/"
        },
        "id": "fzAP7pLPvnpn",
        "outputId": "e04bc047-627e-4618-9d8d-90933943cdae"
      },
      "execution_count": 119,
      "outputs": [
        {
          "output_type": "stream",
          "name": "stdout",
          "text": [
            "Difference: 1.44 %\n"
          ]
        }
      ]
    },
    {
      "cell_type": "markdown",
      "source": [
        "TESTING DATASET"
      ],
      "metadata": {
        "id": "mR-C0JdCv8-S"
      }
    },
    {
      "cell_type": "code",
      "execution_count": 120,
      "metadata": {
        "colab": {
          "base_uri": "https://localhost:8080/"
        },
        "id": "3UnSAuCPddTS",
        "outputId": "13309f17-dd13-4557-a706-a91c7c9f8c1c"
      },
      "outputs": [
        {
          "output_type": "execute_result",
          "data": {
            "text/plain": [
              "0.8372051599585524"
            ]
          },
          "metadata": {},
          "execution_count": 120
        }
      ],
      "source": [
        "# normal equation\n",
        "y_test_pred1 = reg.predict(X_test)\n",
        "eval1 = r2_score(y_test_pred1, y_test)\n",
        "eval1"
      ]
    },
    {
      "cell_type": "code",
      "source": [
        "# gradient descent\n",
        "y_test_pred2 = reg_GD.predict(X_test)\n",
        "eval2 = r2_score(y_test_pred2, y_test)\n",
        "eval2"
      ],
      "metadata": {
        "colab": {
          "base_uri": "https://localhost:8080/"
        },
        "id": "6aMrSBR49X3u",
        "outputId": "20e720fc-34b7-4f73-986c-ca207a03d089"
      },
      "execution_count": 121,
      "outputs": [
        {
          "output_type": "execute_result",
          "data": {
            "text/plain": [
              "0.8309543699520843"
            ]
          },
          "metadata": {},
          "execution_count": 121
        }
      ]
    },
    {
      "cell_type": "code",
      "source": [
        "# difference in %\n",
        "print(\"Difference:\",round((eval1 - eval2), 5) * 100, \"%\")"
      ],
      "metadata": {
        "colab": {
          "base_uri": "https://localhost:8080/"
        },
        "id": "sT1zdmR5yjWT",
        "outputId": "12b8b077-1056-4cba-b3fa-08bbd1e163bb"
      },
      "execution_count": 122,
      "outputs": [
        {
          "output_type": "stream",
          "name": "stdout",
          "text": [
            "Difference: 0.625 %\n"
          ]
        }
      ]
    },
    {
      "cell_type": "markdown",
      "metadata": {
        "id": "lGWM0AT3h_z7"
      },
      "source": [
        "# Insurance Dataset"
      ]
    },
    {
      "cell_type": "markdown",
      "metadata": {
        "id": "t3XRaiasnKeB"
      },
      "source": [
        "💰💰 **Dataset Information (insurance.csv)** 💰💰\n",
        "- age: Age of primary beneficiary\n",
        "- sex: Insurance contractor gender, female / male\n",
        "- bmi: Body mass index, providing an understanding of body, weights that are relatively high or low relative to\n",
        "- children: Number of children covered by health insurance / Number of dependents\n",
        "- smoker: Smoker / Non-smoker\n",
        "- region: The beneficiary's residential area in the US, northeast, southeast, southwest, northwest\n",
        "- charges: Individual medical costs billed by health insurance"
      ]
    },
    {
      "cell_type": "markdown",
      "metadata": {
        "id": "2_B9zbFznKeD"
      },
      "source": [
        "📚📚 **Problem Requirement** 📚📚\n",
        "\n",
        "Use all remaining attributes to estimate the individual medical costs billed by health insurance ('**charges**')\n"
      ]
    },
    {
      "cell_type": "markdown",
      "metadata": {
        "id": "S-SAz8n4nKeE"
      },
      "source": [
        "**Note**: Try to make the Gradient Descent achieving the comparable performance to the Normal Equation model. ✌✌\n",
        "\n",
        "**Hint**💡: Apply (suitable) techniques in the Data Preprocessing tutorial file."
      ]
    },
    {
      "cell_type": "code",
      "execution_count": 123,
      "metadata": {
        "id": "HwPfBssTp4vq"
      },
      "outputs": [],
      "source": [
        "# read data\n",
        "insurance=pd.read_csv('gdrive/My Drive/insurance.csv')"
      ]
    },
    {
      "cell_type": "markdown",
      "source": [
        "**DATA PREPROCESSING**\n",
        "\n",
        "---\n",
        "\n"
      ],
      "metadata": {
        "id": "3ddxiAE8ARoA"
      }
    },
    {
      "cell_type": "code",
      "source": [
        "label_encoder = LabelEncoder()"
      ],
      "metadata": {
        "id": "AviTSSCDAD6s"
      },
      "execution_count": 124,
      "outputs": []
    },
    {
      "cell_type": "code",
      "source": [
        "insurance[\"sex\"] = label_encoder.fit_transform(insurance[\"sex\"])\n",
        "insurance[\"smoker\"] = label_encoder.fit_transform(insurance[\"smoker\"])\n",
        "insurance[\"region\"] = label_encoder.fit_transform(insurance[\"region\"])"
      ],
      "metadata": {
        "id": "34cT1wtTAwha"
      },
      "execution_count": 125,
      "outputs": []
    },
    {
      "cell_type": "code",
      "source": [
        "# indentify outliers\n",
        "sns.boxplot(x=insurance[\"charges\"])"
      ],
      "metadata": {
        "colab": {
          "base_uri": "https://localhost:8080/",
          "height": 297
        },
        "id": "eJ3SNcOZBcI9",
        "outputId": "b8cffb7a-d5ce-42d9-a157-3fe5f2f9fca8"
      },
      "execution_count": 126,
      "outputs": [
        {
          "output_type": "execute_result",
          "data": {
            "text/plain": [
              "<matplotlib.axes._subplots.AxesSubplot at 0x7f1a274b4650>"
            ]
          },
          "metadata": {},
          "execution_count": 126
        },
        {
          "output_type": "display_data",
          "data": {
            "text/plain": [
              "<Figure size 432x288 with 1 Axes>"
            ],
            "image/png": "[encoded data removed]"
          },
          "metadata": {
            "needs_background": "light"
          }
        }
      ]
    },
    {
      "cell_type": "code",
      "source": [
        "dfc = insurance[\"charges\"]\n",
        "dfc_Q1 = dfc.quantile(0.25)\n",
        "dfc_Q3 = dfc.quantile(0.75)\n",
        "dfc_IQR = dfc_Q3 - dfc_Q1\n",
        "dfc_lowerend = dfc_Q1 - (1.5 * dfc_IQR)\n",
        "dfc_upperend = dfc_Q3 + (1.5 * dfc_IQR)\n",
        "\n",
        "dfc_outliers = dfc[(dfc < dfc_lowerend) | (dfc > dfc_upperend)]\n",
        "dfc_outliers"
      ],
      "metadata": {
        "colab": {
          "base_uri": "https://localhost:8080/"
        },
        "id": "i2JuNkv6CSL8",
        "outputId": "1658262a-a40e-49a3-e03d-d51ed66bee3a"
      },
      "execution_count": 127,
      "outputs": [
        {
          "output_type": "execute_result",
          "data": {
            "text/plain": [
              "14      39611.75770\n",
              "19      36837.46700\n",
              "23      37701.87680\n",
              "29      38711.00000\n",
              "30      35585.57600\n",
              "           ...     \n",
              "1300    62592.87309\n",
              "1301    46718.16325\n",
              "1303    37829.72420\n",
              "1313    36397.57600\n",
              "1323    43896.37630\n",
              "Name: charges, Length: 139, dtype: float64"
            ]
          },
          "metadata": {},
          "execution_count": 127
        }
      ]
    },
    {
      "cell_type": "code",
      "source": [
        "sns.boxplot(x=insurance[\"bmi\"])"
      ],
      "metadata": {
        "colab": {
          "base_uri": "https://localhost:8080/",
          "height": 297
        },
        "id": "ZpRY7lPKBck8",
        "outputId": "f5f39a91-98ee-4eb5-8c1e-87696a82886a"
      },
      "execution_count": 128,
      "outputs": [
        {
          "output_type": "execute_result",
          "data": {
            "text/plain": [
              "<matplotlib.axes._subplots.AxesSubplot at 0x7f1a27281990>"
            ]
          },
          "metadata": {},
          "execution_count": 128
        },
        {
          "output_type": "display_data",
          "data": {
            "text/plain": [
              "<Figure size 432x288 with 1 Axes>"
            ],
            "image/png": "[encoded data removed]"
          },
          "metadata": {
            "needs_background": "light"
          }
        }
      ]
    },
    {
      "cell_type": "code",
      "source": [
        "dfbmi = insurance[\"bmi\"]\n",
        "dfbmi_Q1 = dfbmi.quantile(0.25)\n",
        "dfbmi_Q3 = dfbmi.quantile(0.75)\n",
        "dfbmi_IQR = dfbmi_Q3 - dfbmi_Q1\n",
        "dfbmi_lowerend = dfbmi_Q1 - (1.5 * dfbmi_IQR)\n",
        "dfbmi_upperend = dfbmi_Q3 + (1.5 * dfbmi_IQR)\n",
        "\n",
        "dfbmi_outliers = dfbmi[(dfbmi < dfbmi_lowerend) | (dfbmi > dfbmi_upperend)]\n",
        "dfbmi_outliers"
      ],
      "metadata": {
        "colab": {
          "base_uri": "https://localhost:8080/"
        },
        "id": "q92oZT_QCIuQ",
        "outputId": "32d711d9-0e1e-4c75-9625-a2c223d4aafa"
      },
      "execution_count": 129,
      "outputs": [
        {
          "output_type": "execute_result",
          "data": {
            "text/plain": [
              "116     49.06\n",
              "286     48.07\n",
              "401     47.52\n",
              "543     47.41\n",
              "847     50.38\n",
              "860     47.60\n",
              "1047    52.58\n",
              "1088    47.74\n",
              "1317    53.13\n",
              "Name: bmi, dtype: float64"
            ]
          },
          "metadata": {},
          "execution_count": 129
        }
      ]
    },
    {
      "cell_type": "code",
      "source": [
        "outliers = []\n",
        "for i in dfc_outliers.keys():\n",
        "  outliers.append(i)\n",
        "b = [116, 286, 401, 847, 1088, 1317]\n",
        "for i in b:\n",
        "  outliers.append(i)\n",
        "insurance.drop(outliers)"
      ],
      "metadata": {
        "id": "Vpty8pyVF-Me",
        "colab": {
          "base_uri": "https://localhost:8080/",
          "height": 424
        },
        "outputId": "4314c0ed-a9b7-4724-c11a-73e2193c9bf0"
      },
      "execution_count": 130,
      "outputs": [
        {
          "output_type": "execute_result",
          "data": {
            "text/plain": [
              "      age  sex     bmi  children  smoker  region      charges\n",
              "0      19    0  27.900         0       1       3  16884.92400\n",
              "1      18    1  33.770         1       0       2   1725.55230\n",
              "2      28    1  33.000         3       0       2   4449.46200\n",
              "3      33    1  22.705         0       0       1  21984.47061\n",
              "4      32    1  28.880         0       0       1   3866.85520\n",
              "...   ...  ...     ...       ...     ...     ...          ...\n",
              "1333   50    1  30.970         3       0       1  10600.54830\n",
              "1334   18    0  31.920         0       0       0   2205.98080\n",
              "1335   18    0  36.850         0       0       2   1629.83350\n",
              "1336   21    0  25.800         0       0       3   2007.94500\n",
              "1337   61    0  29.070         0       1       1  29141.36030\n",
              "\n",
              "[1193 rows x 7 columns]"
            ],
            "text/html": [
              "\n",
              "  <div id=\"df-24e3d117-5fe0-4085-9ea9-33330931100c\">\n",
              "    <div class=\"colab-df-container\">\n",
              "      <div>\n",
              "<style scoped>\n",
              "    .dataframe tbody tr th:only-of-type {\n",
              "        vertical-align: middle;\n",
              "    }\n",
              "\n",
              "    .dataframe tbody tr th {\n",
              "        vertical-align: top;\n",
              "    }\n",
              "\n",
              "    .dataframe thead th {\n",
              "        text-align: right;\n",
              "    }\n",
              "</style>\n",
              "<table border=\"1\" class=\"dataframe\">\n",
              "  <thead>\n",
              "    <tr style=\"text-align: right;\">\n",
              "      <th></th>\n",
              "      <th>age</th>\n",
              "      <th>sex</th>\n",
              "      <th>bmi</th>\n",
              "      <th>children</th>\n",
              "      <th>smoker</th>\n",
              "      <th>region</th>\n",
              "      <th>charges</th>\n",
              "    </tr>\n",
              "  </thead>\n",
              "  <tbody>\n",
              "    <tr>\n",
              "      <th>0</th>\n",
              "      <td>19</td>\n",
              "      <td>0</td>\n",
              "      <td>27.900</td>\n",
              "      <td>0</td>\n",
              "      <td>1</td>\n",
              "      <td>3</td>\n",
              "      <td>16884.92400</td>\n",
              "    </tr>\n",
              "    <tr>\n",
              "      <th>1</th>\n",
              "      <td>18</td>\n",
              "      <td>1</td>\n",
              "      <td>33.770</td>\n",
              "      <td>1</td>\n",
              "      <td>0</td>\n",
              "      <td>2</td>\n",
              "      <td>1725.55230</td>\n",
              "    </tr>\n",
              "    <tr>\n",
              "      <th>2</th>\n",
              "      <td>28</td>\n",
              "      <td>1</td>\n",
              "      <td>33.000</td>\n",
              "      <td>3</td>\n",
              "      <td>0</td>\n",
              "      <td>2</td>\n",
              "      <td>4449.46200</td>\n",
              "    </tr>\n",
              "    <tr>\n",
              "      <th>3</th>\n",
              "      <td>33</td>\n",
              "      <td>1</td>\n",
              "      <td>22.705</td>\n",
              "      <td>0</td>\n",
              "      <td>0</td>\n",
              "      <td>1</td>\n",
              "      <td>21984.47061</td>\n",
              "    </tr>\n",
              "    <tr>\n",
              "      <th>4</th>\n",
              "      <td>32</td>\n",
              "      <td>1</td>\n",
              "      <td>28.880</td>\n",
              "      <td>0</td>\n",
              "      <td>0</td>\n",
              "      <td>1</td>\n",
              "      <td>3866.85520</td>\n",
              "    </tr>\n",
              "    <tr>\n",
              "      <th>...</th>\n",
              "      <td>...</td>\n",
              "      <td>...</td>\n",
              "      <td>...</td>\n",
              "      <td>...</td>\n",
              "      <td>...</td>\n",
              "      <td>...</td>\n",
              "      <td>...</td>\n",
              "    </tr>\n",
              "    <tr>\n",
              "      <th>1333</th>\n",
              "      <td>50</td>\n",
              "      <td>1</td>\n",
              "      <td>30.970</td>\n",
              "      <td>3</td>\n",
              "      <td>0</td>\n",
              "      <td>1</td>\n",
              "      <td>10600.54830</td>\n",
              "    </tr>\n",
              "    <tr>\n",
              "      <th>1334</th>\n",
              "      <td>18</td>\n",
              "      <td>0</td>\n",
              "      <td>31.920</td>\n",
              "      <td>0</td>\n",
              "      <td>0</td>\n",
              "      <td>0</td>\n",
              "      <td>2205.98080</td>\n",
              "    </tr>\n",
              "    <tr>\n",
              "      <th>1335</th>\n",
              "      <td>18</td>\n",
              "      <td>0</td>\n",
              "      <td>36.850</td>\n",
              "      <td>0</td>\n",
              "      <td>0</td>\n",
              "      <td>2</td>\n",
              "      <td>1629.83350</td>\n",
              "    </tr>\n",
              "    <tr>\n",
              "      <th>1336</th>\n",
              "      <td>21</td>\n",
              "      <td>0</td>\n",
              "      <td>25.800</td>\n",
              "      <td>0</td>\n",
              "      <td>0</td>\n",
              "      <td>3</td>\n",
              "      <td>2007.94500</td>\n",
              "    </tr>\n",
              "    <tr>\n",
              "      <th>1337</th>\n",
              "      <td>61</td>\n",
              "      <td>0</td>\n",
              "      <td>29.070</td>\n",
              "      <td>0</td>\n",
              "      <td>1</td>\n",
              "      <td>1</td>\n",
              "      <td>29141.36030</td>\n",
              "    </tr>\n",
              "  </tbody>\n",
              "</table>\n",
              "<p>1193 rows × 7 columns</p>\n",
              "</div>\n",
              "      <button class=\"colab-df-convert\" onclick=\"convertToInteractive('df-24e3d117-5fe0-4085-9ea9-33330931100c')\"\n",
              "              title=\"Convert this dataframe to an interactive table.\"\n",
              "              style=\"display:none;\">\n",
              "        \n",
              "  <svg xmlns=\"http://www.w3.org/2000/svg\" height=\"24px\"viewBox=\"0 0 24 24\"\n",
              "       width=\"24px\">\n",
              "    <path d=\"M0 0h24v24H0V0z\" fill=\"none\"/>\n",
              "    <path d=\"M18.56 5.44l.94 2.06.94-2.06 2.06-.94-2.06-.94-.94-2.06-.94 2.06-2.06.94zm-11 1L8.5 8.5l.94-2.06 2.06-.94-2.06-.94L8.5 2.5l-.94 2.06-2.06.94zm10 10l.94 2.06.94-2.06 2.06-.94-2.06-.94-.94-2.06-.94 2.06-2.06.94z\"/><path d=\"M17.41 7.96l-1.37-1.37c-.4-.4-.92-.59-1.43-.59-.52 0-1.04.2-1.43.59L10.3 9.45l-7.72 7.72c-.78.78-.78 2.05 0 2.83L4 21.41c.39.39.9.59 1.41.59.51 0 1.02-.2 1.41-.59l7.78-7.78 2.81-2.81c.8-.78.8-2.07 0-2.86zM5.41 20L4 18.59l7.72-7.72 1.47 1.35L5.41 20z\"/>\n",
              "  </svg>\n",
              "      </button>\n",
              "      \n",
              "  <style>\n",
              "    .colab-df-container {\n",
              "      display:flex;\n",
              "      flex-wrap:wrap;\n",
              "      gap: 12px;\n",
              "    }\n",
              "\n",
              "    .colab-df-convert {\n",
              "      background-color: #E8F0FE;\n",
              "      border: none;\n",
              "      border-radius: 50%;\n",
              "      cursor: pointer;\n",
              "      display: none;\n",
              "      fill: #1967D2;\n",
              "      height: 32px;\n",
              "      padding: 0 0 0 0;\n",
              "      width: 32px;\n",
              "    }\n",
              "\n",
              "    .colab-df-convert:hover {\n",
              "      background-color: #E2EBFA;\n",
              "      box-shadow: 0px 1px 2px rgba(60, 64, 67, 0.3), 0px 1px 3px 1px rgba(60, 64, 67, 0.15);\n",
              "      fill: #174EA6;\n",
              "    }\n",
              "\n",
              "    [theme=dark] .colab-df-convert {\n",
              "      background-color: #3B4455;\n",
              "      fill: #D2E3FC;\n",
              "    }\n",
              "\n",
              "    [theme=dark] .colab-df-convert:hover {\n",
              "      background-color: #434B5C;\n",
              "      box-shadow: 0px 1px 3px 1px rgba(0, 0, 0, 0.15);\n",
              "      filter: drop-shadow(0px 1px 2px rgba(0, 0, 0, 0.3));\n",
              "      fill: #FFFFFF;\n",
              "    }\n",
              "  </style>\n",
              "\n",
              "      <script>\n",
              "        const buttonEl =\n",
              "          document.querySelector('#df-24e3d117-5fe0-4085-9ea9-33330931100c button.colab-df-convert');\n",
              "        buttonEl.style.display =\n",
              "          google.colab.kernel.accessAllowed ? 'block' : 'none';\n",
              "\n",
              "        async function convertToInteractive(key) {\n",
              "          const element = document.querySelector('#df-24e3d117-5fe0-4085-9ea9-33330931100c');\n",
              "          const dataTable =\n",
              "            await google.colab.kernel.invokeFunction('convertToInteractive',\n",
              "                                                     [key], {});\n",
              "          if (!dataTable) return;\n",
              "\n",
              "          const docLinkHtml = 'Like what you see? Visit the ' +\n",
              "            '<a target=\"_blank\" href=https://colab.research.google.com/notebooks/data_table.ipynb>data table notebook</a>'\n",
              "            + ' to learn more about interactive tables.';\n",
              "          element.innerHTML = '';\n",
              "          dataTable['output_type'] = 'display_data';\n",
              "          await google.colab.output.renderOutput(dataTable, element);\n",
              "          const docLink = document.createElement('div');\n",
              "          docLink.innerHTML = docLinkHtml;\n",
              "          element.appendChild(docLink);\n",
              "        }\n",
              "      </script>\n",
              "    </div>\n",
              "  </div>\n",
              "  "
            ]
          },
          "metadata": {},
          "execution_count": 130
        }
      ]
    },
    {
      "cell_type": "code",
      "source": [
        "std_scaler = StandardScaler()\n",
        "insurance = std_scaler.fit_transform(insurance)"
      ],
      "metadata": {
        "id": "sakAik3PHSXM"
      },
      "execution_count": 131,
      "outputs": []
    },
    {
      "cell_type": "code",
      "source": [
        "X = insurance[:,0:6]\n",
        "y = insurance[:,6]"
      ],
      "metadata": {
        "id": "Ar9iVhBBHSXL"
      },
      "execution_count": 132,
      "outputs": []
    },
    {
      "cell_type": "code",
      "source": [
        "insurance.shape"
      ],
      "metadata": {
        "colab": {
          "base_uri": "https://localhost:8080/"
        },
        "id": "fLyVu-gnPwRq",
        "outputId": "e8faa99a-5c84-4ff7-9e1b-a9b05c80c927"
      },
      "execution_count": 133,
      "outputs": [
        {
          "output_type": "execute_result",
          "data": {
            "text/plain": [
              "(1338, 7)"
            ]
          },
          "metadata": {},
          "execution_count": 133
        }
      ]
    },
    {
      "cell_type": "markdown",
      "source": [
        "**SPLITTING THE DATASET**\n",
        "\n",
        "---\n",
        "\n"
      ],
      "metadata": {
        "id": "c2fiVmM_IOt9"
      }
    },
    {
      "cell_type": "code",
      "execution_count": 134,
      "metadata": {
        "id": "_mwXHRI7H8TH"
      },
      "outputs": [],
      "source": [
        "X_train, X_test, y_train, y_test = train_test_split(X, y, test_size=0.3, random_state=21521009)"
      ]
    },
    {
      "cell_type": "code",
      "execution_count": 135,
      "metadata": {
        "colab": {
          "base_uri": "https://localhost:8080/"
        },
        "outputId": "125bd001-53e8-42f8-ee9f-1915028ffd6c",
        "id": "SBILcY4UH8TI"
      },
      "outputs": [
        {
          "output_type": "stream",
          "name": "stdout",
          "text": [
            "How many samples do we have in our test and train datasets?\n",
            "X_train:  (936, 6)\n",
            "y_train:  (936,)\n",
            "X_test:  (402, 6)\n",
            "y_test:  (402,)\n"
          ]
        }
      ],
      "source": [
        "print('How many samples do we have in our test and train datasets?')\n",
        "print('X_train: ', np.shape(X_train))\n",
        "print('y_train: ', np.shape(y_train))\n",
        "print('X_test: ', np.shape(X_test))\n",
        "print('y_test: ', np.shape(y_test))"
      ]
    },
    {
      "cell_type": "markdown",
      "metadata": {
        "id": "xdjs-0c4Icbj"
      },
      "source": [
        "**TRAINING USING NORMAL EQUATION**\n",
        "\n",
        "---\n",
        "\n"
      ]
    },
    {
      "cell_type": "code",
      "execution_count": 136,
      "metadata": {
        "colab": {
          "base_uri": "https://localhost:8080/"
        },
        "outputId": "f5f7b042-5e8b-464f-ed0a-fc66e36e014a",
        "id": "wjAAm9HGIcbj"
      },
      "outputs": [
        {
          "output_type": "execute_result",
          "data": {
            "text/plain": [
              "LinearRegression()"
            ]
          },
          "metadata": {},
          "execution_count": 136
        }
      ],
      "source": [
        "reg = LinearRegression()\n",
        "reg.fit(X_train,y_train)"
      ]
    },
    {
      "cell_type": "code",
      "execution_count": 137,
      "metadata": {
        "colab": {
          "base_uri": "https://localhost:8080/"
        },
        "outputId": "960d9050-0563-46d7-f822-3cc421585cfb",
        "id": "z8Aq0OYBIcbj"
      },
      "outputs": [
        {
          "output_type": "stream",
          "name": "stdout",
          "text": [
            "Model intercept:  0.0002771514240666943\n",
            "Model coefficients:  [ 3.06395912e-01  5.85628857e-04  1.46920085e-01  5.10034454e-02\n",
            "  7.75666156e-01 -9.37049013e-03]\n"
          ]
        }
      ],
      "source": [
        "print('Model intercept: ', reg.intercept_)\n",
        "print('Model coefficients: ', reg.coef_)"
      ]
    },
    {
      "cell_type": "markdown",
      "source": [
        "**TRAINING USING GRADIENT DESCENT**\n",
        "\n",
        "---\n",
        "\n"
      ],
      "metadata": {
        "id": "SjYyJ3L84cbo"
      }
    },
    {
      "cell_type": "code",
      "source": [
        "reg_GD = LinearRegression_GD(eta = 0.001, max_iter = 200, random_state=21521009)\n",
        "reg_GD.fit(X_train, y_train)"
      ],
      "metadata": {
        "id": "paSLtQl4kPJR"
      },
      "execution_count": 138,
      "outputs": []
    },
    {
      "cell_type": "code",
      "source": [
        "print(reg_GD.w)"
      ],
      "metadata": {
        "colab": {
          "base_uri": "https://localhost:8080/"
        },
        "id": "n4aRvQN4xRMl",
        "outputId": "b2e56cfe-724c-486d-b8ff-a319192e8bc9"
      },
      "execution_count": 139,
      "outputs": [
        {
          "output_type": "stream",
          "name": "stdout",
          "text": [
            "[ 2.77151424e-04  3.06395912e-01  5.85628857e-04  1.46920085e-01\n",
            "  5.10034454e-02  7.75666156e-01 -9.37049013e-03]\n"
          ]
        }
      ]
    },
    {
      "cell_type": "markdown",
      "source": [
        "**COMPARING NORMAL EQUATION TO GRADIENT DESCENT**\n",
        "\n",
        "---\n",
        "\n"
      ],
      "metadata": {
        "id": "oxFgwO8zxVJd"
      }
    },
    {
      "cell_type": "markdown",
      "source": [
        "TRAINING DATASET"
      ],
      "metadata": {
        "id": "049o3rQ0xasH"
      }
    },
    {
      "cell_type": "code",
      "source": [
        "# normal equation\n",
        "y_train_pred1 = reg.predict(X_train)\n",
        "score1 = r2_score(y_train_pred1, y_train)\n",
        "score1"
      ],
      "metadata": {
        "colab": {
          "base_uri": "https://localhost:8080/"
        },
        "id": "3D5atTOgxc81",
        "outputId": "c2d7007d-52e5-49e7-99d1-1aca58523abe"
      },
      "execution_count": 140,
      "outputs": [
        {
          "output_type": "execute_result",
          "data": {
            "text/plain": [
              "0.6486059666939443"
            ]
          },
          "metadata": {},
          "execution_count": 140
        }
      ]
    },
    {
      "cell_type": "code",
      "source": [
        "# gradient descent\n",
        "y_train_pred2 = reg_GD.predict(X_train)\n",
        "score2 = r2_score(y_train_pred2, y_train)\n",
        "score2"
      ],
      "metadata": {
        "colab": {
          "base_uri": "https://localhost:8080/"
        },
        "id": "I0OcIsL8xobL",
        "outputId": "d05b261e-ca6b-4cde-f0d3-a585ab74d5d5"
      },
      "execution_count": 141,
      "outputs": [
        {
          "output_type": "execute_result",
          "data": {
            "text/plain": [
              "0.6486059666939439"
            ]
          },
          "metadata": {},
          "execution_count": 141
        }
      ]
    },
    {
      "cell_type": "code",
      "source": [
        "# difference in %\n",
        "print(\"Difference:\", round((score1 - score2), 5) * 100, \"%\")"
      ],
      "metadata": {
        "colab": {
          "base_uri": "https://localhost:8080/"
        },
        "id": "KunAuf3UxwYG",
        "outputId": "99d2585c-49ae-4d30-e2df-fc09daa28093"
      },
      "execution_count": 142,
      "outputs": [
        {
          "output_type": "stream",
          "name": "stdout",
          "text": [
            "Difference: 0.0 %\n"
          ]
        }
      ]
    },
    {
      "cell_type": "markdown",
      "source": [
        "TESTING DATASET"
      ],
      "metadata": {
        "id": "_q9CKIIxx6_w"
      }
    },
    {
      "cell_type": "code",
      "source": [
        "# normal equation\n",
        "y_test_pred1 = reg.predict(X_test)\n",
        "eval1 = r2_score(y_test_pred1, y_test)\n",
        "eval1"
      ],
      "metadata": {
        "colab": {
          "base_uri": "https://localhost:8080/"
        },
        "id": "T3H-eu59x_Hf",
        "outputId": "ef909002-255c-44fd-fe50-7c3c56c070cd"
      },
      "execution_count": 143,
      "outputs": [
        {
          "output_type": "execute_result",
          "data": {
            "text/plain": [
              "0.66148008530092"
            ]
          },
          "metadata": {},
          "execution_count": 143
        }
      ]
    },
    {
      "cell_type": "code",
      "source": [
        "# gradient descent\n",
        "y_test_pred2 = reg_GD.predict(X_test)\n",
        "eval2 = r2_score(y_test_pred2, y_test)\n",
        "eval2"
      ],
      "metadata": {
        "colab": {
          "base_uri": "https://localhost:8080/"
        },
        "id": "9Gh3dbL0x_Hf",
        "outputId": "6e6149ad-05ba-4b97-962b-bc7c103d2ff5"
      },
      "execution_count": 144,
      "outputs": [
        {
          "output_type": "execute_result",
          "data": {
            "text/plain": [
              "0.6614800853009195"
            ]
          },
          "metadata": {},
          "execution_count": 144
        }
      ]
    },
    {
      "cell_type": "code",
      "source": [
        "# difference in %\n",
        "print(\"Difference:\", round((eval1 - eval2), 5) * 100, \"%\")"
      ],
      "metadata": {
        "colab": {
          "base_uri": "https://localhost:8080/"
        },
        "id": "-GNTDhd0x_Hg",
        "outputId": "7463317d-72ab-4e62-a536-fa3ce230809a"
      },
      "execution_count": 145,
      "outputs": [
        {
          "output_type": "stream",
          "name": "stdout",
          "text": [
            "Difference: 0.0 %\n"
          ]
        }
      ]
    },
    {
      "cell_type": "markdown",
      "metadata": {
        "id": "ymYJad2ch5Yt"
      },
      "source": [
        "# Tesla Stock Dataset"
      ]
    },
    {
      "cell_type": "markdown",
      "metadata": {
        "id": "vLkcaH7Hpyhv"
      },
      "source": [
        "📈📈 **Dataset Information (tesla_stock.csv)** 📈📈\n",
        "- Open: The opening price of the stock\n",
        "- High: The high price of that day\n",
        "- Low: The low price of that day\n",
        "- Close: The closed price of that day\n",
        "- Volume: The amount of stocks traded during that day"
      ]
    },
    {
      "cell_type": "markdown",
      "metadata": {
        "id": "k9q59HmEpyhv"
      },
      "source": [
        "📚📚 **Problem Requirement** 📚📚\n",
        "\n",
        "Use all remaining attributes to predict the closing price of tesla stock ('**Close**')\n"
      ]
    },
    {
      "cell_type": "markdown",
      "metadata": {
        "id": "jcQmt-VJpyhv"
      },
      "source": [
        "**Note**: Try to make the Gradient Descent achieving the comparable performance to the Normal Equation model. ✌✌\n",
        "\n",
        "**Hint**💡: Apply (suitable) techniques in the Data Preprocessing tutorial file."
      ]
    },
    {
      "cell_type": "code",
      "execution_count": 146,
      "metadata": {
        "id": "0yYAVZJnpyNK"
      },
      "outputs": [],
      "source": [
        "# read data\n",
        "df=pd.read_csv('gdrive/My Drive/tesla_stock.csv')"
      ]
    },
    {
      "cell_type": "markdown",
      "source": [
        "**DATA PREPROCESSING**\n",
        "\n",
        "---\n",
        "\n"
      ],
      "metadata": {
        "id": "plAkuTwtedVb"
      }
    },
    {
      "cell_type": "code",
      "source": [
        "# indentify outliers\n",
        "sns.boxplot(x=df[\"Open\"])"
      ],
      "metadata": {
        "colab": {
          "base_uri": "https://localhost:8080/",
          "height": 297
        },
        "id": "xyG62AtaeKmM",
        "outputId": "d47357b7-8bdf-4059-ba60-0ddc466bae3d"
      },
      "execution_count": 147,
      "outputs": [
        {
          "output_type": "execute_result",
          "data": {
            "text/plain": [
              "<matplotlib.axes._subplots.AxesSubplot at 0x7f1a27212610>"
            ]
          },
          "metadata": {},
          "execution_count": 147
        },
        {
          "output_type": "display_data",
          "data": {
            "text/plain": [
              "<Figure size 432x288 with 1 Axes>"
            ],
            "image/png": "[encoded data removed]"
          },
          "metadata": {
            "needs_background": "light"
          }
        }
      ]
    },
    {
      "cell_type": "code",
      "execution_count": 148,
      "metadata": {
        "id": "1Bxtmp7Bem0e"
      },
      "outputs": [],
      "source": [
        "dfo = df[\"Open\"]\n",
        "dfo_Q1 = dfo.quantile(0.25)\n",
        "dfo_Q3 = dfo.quantile(0.75)\n",
        "dfo_IQR = dfo_Q3 - dfo_Q1\n",
        "dfo_lowerend = dfo_Q1 - (1.5 * dfo_IQR)\n",
        "dfo_upperend = dfo_Q3 + (1.5 * dfo_IQR)"
      ]
    },
    {
      "cell_type": "code",
      "execution_count": 149,
      "metadata": {
        "colab": {
          "base_uri": "https://localhost:8080/"
        },
        "outputId": "23e3e99b-40e3-4b7b-8c14-3c39ecd58f0e",
        "id": "-b34a_ukem0f"
      },
      "outputs": [
        {
          "output_type": "execute_result",
          "data": {
            "text/plain": [
              "2413    632.419983\n",
              "2414    640.000000\n",
              "2415    673.690002\n",
              "Name: Open, dtype: float64"
            ]
          },
          "metadata": {},
          "execution_count": 149
        }
      ],
      "source": [
        "dfo_outliers = dfo[(dfo < dfo_lowerend) | (dfo > dfo_upperend)]\n",
        "dfo_outliers"
      ]
    },
    {
      "cell_type": "code",
      "source": [
        "# indentify outliers\n",
        "sns.boxplot(x=df[\"High\"])"
      ],
      "metadata": {
        "colab": {
          "base_uri": "https://localhost:8080/",
          "height": 297
        },
        "outputId": "2e3b233e-8440-42ee-8cfc-dec097f4031a",
        "id": "2AOar5LQfEKF"
      },
      "execution_count": 150,
      "outputs": [
        {
          "output_type": "execute_result",
          "data": {
            "text/plain": [
              "<matplotlib.axes._subplots.AxesSubplot at 0x7f1a271d9c10>"
            ]
          },
          "metadata": {},
          "execution_count": 150
        },
        {
          "output_type": "display_data",
          "data": {
            "text/plain": [
              "<Figure size 432x288 with 1 Axes>"
            ],
            "image/png": "[encoded data removed]"
          },
          "metadata": {
            "needs_background": "light"
          }
        }
      ]
    },
    {
      "cell_type": "code",
      "execution_count": 151,
      "metadata": {
        "id": "kkFgX52efEKK"
      },
      "outputs": [],
      "source": [
        "dfh = df[\"High\"]\n",
        "dfh_Q1 = dfh.quantile(0.25)\n",
        "dfh_Q3 = dfh.quantile(0.75)\n",
        "dfh_IQR = dfh_Q3 - dfh_Q1\n",
        "dfh_lowerend = dfh_Q1 - (1.5 * dfh_IQR)\n",
        "dfh_upperend = dfh_Q3 + (1.5 * dfh_IQR)"
      ]
    },
    {
      "cell_type": "code",
      "execution_count": 152,
      "metadata": {
        "colab": {
          "base_uri": "https://localhost:8080/"
        },
        "outputId": "3c98aada-fa82-4e04-92c8-bff83ca8e7c2",
        "id": "40RCTrgpfEKK"
      },
      "outputs": [
        {
          "output_type": "execute_result",
          "data": {
            "text/plain": [
              "2413    650.880005\n",
              "2414    653.000000\n",
              "2415    786.140015\n",
              "Name: High, dtype: float64"
            ]
          },
          "metadata": {},
          "execution_count": 152
        }
      ],
      "source": [
        "dfh_outliers = dfh[(dfh < dfh_lowerend) | (dfh > dfh_upperend)]\n",
        "dfh_outliers"
      ]
    },
    {
      "cell_type": "code",
      "source": [
        "# indentify outliers\n",
        "sns.boxplot(x=df[\"Low\"])"
      ],
      "metadata": {
        "colab": {
          "base_uri": "https://localhost:8080/",
          "height": 297
        },
        "outputId": "50832380-cb02-4db3-e34d-63e7609def0b",
        "id": "3Gz3Clfuf7Le"
      },
      "execution_count": 153,
      "outputs": [
        {
          "output_type": "execute_result",
          "data": {
            "text/plain": [
              "<matplotlib.axes._subplots.AxesSubplot at 0x7f1a270ee6d0>"
            ]
          },
          "metadata": {},
          "execution_count": 153
        },
        {
          "output_type": "display_data",
          "data": {
            "text/plain": [
              "<Figure size 432x288 with 1 Axes>"
            ],
            "image/png": "[encoded data removed]"
          },
          "metadata": {
            "needs_background": "light"
          }
        }
      ]
    },
    {
      "cell_type": "code",
      "execution_count": 154,
      "metadata": {
        "id": "42VhnkKsf7Le"
      },
      "outputs": [],
      "source": [
        "dfl = df[\"Low\"]\n",
        "dfl_Q1 = dfl.quantile(0.25)\n",
        "dfl_Q3 = dfl.quantile(0.75)\n",
        "dfl_IQR = dfl_Q3 - dfl_Q1\n",
        "dfl_lowerend = dfl_Q1 - (1.5 * dfl_IQR)\n",
        "dfl_upperend = dfl_Q3 + (1.5 * dfl_IQR)"
      ]
    },
    {
      "cell_type": "code",
      "execution_count": 155,
      "metadata": {
        "colab": {
          "base_uri": "https://localhost:8080/"
        },
        "outputId": "b1b0bd63-573d-482b-e408-b8371c011d5d",
        "id": "_vslQY8Lf7Lf"
      },
      "outputs": [
        {
          "output_type": "execute_result",
          "data": {
            "text/plain": [
              "2413    618.00000\n",
              "2414    632.52002\n",
              "2415    673.52002\n",
              "Name: Low, dtype: float64"
            ]
          },
          "metadata": {},
          "execution_count": 155
        }
      ],
      "source": [
        "dfl_outliers = dfl[(dfl < dfl_lowerend) | (dfl > dfl_upperend)]\n",
        "dfl_outliers"
      ]
    },
    {
      "cell_type": "code",
      "source": [
        "# indentify outliers\n",
        "sns.boxplot(x=df[\"Volume\"])"
      ],
      "metadata": {
        "colab": {
          "base_uri": "https://localhost:8080/",
          "height": 297
        },
        "outputId": "0eb1b4ac-7b5d-4f36-a37c-c38d0b68a732",
        "id": "uciZ1jGjg1Qm"
      },
      "execution_count": 156,
      "outputs": [
        {
          "output_type": "execute_result",
          "data": {
            "text/plain": [
              "<matplotlib.axes._subplots.AxesSubplot at 0x7f1a275d3b10>"
            ]
          },
          "metadata": {},
          "execution_count": 156
        },
        {
          "output_type": "display_data",
          "data": {
            "text/plain": [
              "<Figure size 432x288 with 1 Axes>"
            ],
            "image/png": "[encoded data removed]"
          },
          "metadata": {
            "needs_background": "light"
          }
        }
      ]
    },
    {
      "cell_type": "code",
      "execution_count": 157,
      "metadata": {
        "id": "4lqA660Gg1Qu"
      },
      "outputs": [],
      "source": [
        "dfv = df[\"Volume\"]\n",
        "dfv_Q1 = dfv.quantile(0.25)\n",
        "dfv_Q3 = dfv.quantile(0.75)\n",
        "dfv_IQR = dfv_Q3 - dfv_Q1\n",
        "dfv_lowerend = dfv_Q1 - (1.5 * dfv_IQR)\n",
        "dfv_upperend = dfv_Q3 + (1.5 * dfv_IQR)"
      ]
    },
    {
      "cell_type": "code",
      "execution_count": 158,
      "metadata": {
        "colab": {
          "base_uri": "https://localhost:8080/"
        },
        "outputId": "1ade39fa-caa9-4c12-fc82-a388b3a08857",
        "id": "Ld1X6ng1g1Qu"
      },
      "outputs": [
        {
          "output_type": "execute_result",
          "data": {
            "text/plain": [
              "0       18766300\n",
              "1       17187100\n",
              "720     28605000\n",
              "721     25082600\n",
              "722     22416900\n",
              "          ...   \n",
              "2408    19651000\n",
              "2412    17801500\n",
              "2413    29005700\n",
              "2414    15719300\n",
              "2415    47065000\n",
              "Name: Volume, Length: 110, dtype: int64"
            ]
          },
          "metadata": {},
          "execution_count": 158
        }
      ],
      "source": [
        "dfv_outliers = dfv[(dfv < dfv_lowerend) | (dfv > dfv_upperend)]\n",
        "dfv_outliers"
      ]
    },
    {
      "cell_type": "code",
      "source": [
        "outliers = [i for i in dfv_outliers.keys()]\n",
        "df = df.drop(outliers)"
      ],
      "metadata": {
        "id": "Dwo4UpZVef5w"
      },
      "execution_count": 159,
      "outputs": []
    },
    {
      "cell_type": "code",
      "source": [
        "std_scaler = StandardScaler()\n",
        "df = std_scaler.fit_transform(df)"
      ],
      "metadata": {
        "id": "7xBxZvpfhrMN"
      },
      "execution_count": 160,
      "outputs": []
    },
    {
      "cell_type": "code",
      "source": [
        "X = np.delete(df, 3, axis = 1)\n",
        "y = df[:, 3]"
      ],
      "metadata": {
        "id": "Qw-CmOPMiSjs"
      },
      "execution_count": 161,
      "outputs": []
    },
    {
      "cell_type": "code",
      "source": [
        "y.shape"
      ],
      "metadata": {
        "colab": {
          "base_uri": "https://localhost:8080/"
        },
        "outputId": "7dce8c68-40c0-4dbd-c163-e8fdc9afc8df",
        "id": "D8GQtK7BiSjs"
      },
      "execution_count": 162,
      "outputs": [
        {
          "output_type": "execute_result",
          "data": {
            "text/plain": [
              "(2306,)"
            ]
          },
          "metadata": {},
          "execution_count": 162
        }
      ]
    },
    {
      "cell_type": "markdown",
      "source": [
        "**SPLITTING THE DATASET**\n",
        "\n",
        "---\n",
        "\n"
      ],
      "metadata": {
        "id": "iq2ezwiGiSjt"
      }
    },
    {
      "cell_type": "code",
      "execution_count": 163,
      "metadata": {
        "id": "0R9seRAjiSjt"
      },
      "outputs": [],
      "source": [
        "X_train, X_test, y_train, y_test = train_test_split(X, y, test_size=0.3, random_state=21521009)"
      ]
    },
    {
      "cell_type": "code",
      "execution_count": 164,
      "metadata": {
        "colab": {
          "base_uri": "https://localhost:8080/"
        },
        "outputId": "b8927fbb-7436-425a-e9e3-140f8c4ff24e",
        "id": "lubklQAWiSjt"
      },
      "outputs": [
        {
          "output_type": "stream",
          "name": "stdout",
          "text": [
            "How many samples do we have in our test and train datasets?\n",
            "X_train:  (1614, 4)\n",
            "y_train:  (1614,)\n",
            "X_test:  (692, 4)\n",
            "y_test:  (692,)\n"
          ]
        }
      ],
      "source": [
        "print('How many samples do we have in our test and train datasets?')\n",
        "print('X_train: ', np.shape(X_train))\n",
        "print('y_train: ', np.shape(y_train))\n",
        "print('X_test: ', np.shape(X_test))\n",
        "print('y_test: ', np.shape(y_test))"
      ]
    },
    {
      "cell_type": "markdown",
      "metadata": {
        "id": "t8qtKsWmiSjt"
      },
      "source": [
        "**TRAINING USING NORMAL EQUATION**\n",
        "\n",
        "---\n",
        "\n"
      ]
    },
    {
      "cell_type": "code",
      "execution_count": 165,
      "metadata": {
        "colab": {
          "base_uri": "https://localhost:8080/"
        },
        "outputId": "0fa12a9c-2dc1-4117-bb2e-f4d180c67fe2",
        "id": "8Z7Cb_HCiSjt"
      },
      "outputs": [
        {
          "output_type": "execute_result",
          "data": {
            "text/plain": [
              "LinearRegression()"
            ]
          },
          "metadata": {},
          "execution_count": 165
        }
      ],
      "source": [
        "reg = LinearRegression()\n",
        "reg.fit(X_train,y_train)"
      ]
    },
    {
      "cell_type": "code",
      "execution_count": 166,
      "metadata": {
        "colab": {
          "base_uri": "https://localhost:8080/"
        },
        "outputId": "da0dc044-9721-4dbf-b506-1c46fbbb6048",
        "id": "fDnWiwfSiSjt"
      },
      "outputs": [
        {
          "output_type": "stream",
          "name": "stdout",
          "text": [
            "Model intercept:  -5.2829397310156026e-05\n",
            "Model coefficients:  [-6.05938371e-01  8.43409398e-01  7.61808525e-01  6.00921021e-04]\n"
          ]
        }
      ],
      "source": [
        "print('Model intercept: ', reg.intercept_)\n",
        "print('Model coefficients: ', reg.coef_)"
      ]
    },
    {
      "cell_type": "markdown",
      "source": [
        "**TRAINING USING GRADIENT DESCENT**\n",
        "\n",
        "---\n",
        "\n"
      ],
      "metadata": {
        "id": "Kl-SKVJ_njCJ"
      }
    },
    {
      "cell_type": "code",
      "source": [
        "reg_GD = LinearRegression_GD(eta = 0.0001, max_iter = 200, random_state=21521009)\n",
        "reg_GD.fit(X_train, y_train)"
      ],
      "metadata": {
        "id": "_ygPlSSeiSju"
      },
      "execution_count": 167,
      "outputs": []
    },
    {
      "cell_type": "code",
      "source": [
        "print(reg_GD.w)"
      ],
      "metadata": {
        "colab": {
          "base_uri": "https://localhost:8080/"
        },
        "id": "nEPlD85qh4Dy",
        "outputId": "15215039-4eb8-4d97-9b68-832d62e3b4a9"
      },
      "execution_count": 168,
      "outputs": [
        {
          "output_type": "stream",
          "name": "stdout",
          "text": [
            "[3.62926151e-05 3.12188591e-01 3.39779100e-01 3.46835727e-01\n",
            " 1.39161050e-03]\n"
          ]
        }
      ]
    },
    {
      "cell_type": "markdown",
      "source": [
        "**COMPARING NORMAL EQUATION TO GRADIENT DESCENT**\n",
        "\n",
        "---\n",
        "\n"
      ],
      "metadata": {
        "id": "3QMAz4AYrNvx"
      }
    },
    {
      "cell_type": "markdown",
      "source": [
        "TRAINING DATASET\n",
        "\n",
        "---\n",
        "\n"
      ],
      "metadata": {
        "id": "SkLljJ73rff-"
      }
    },
    {
      "cell_type": "code",
      "source": [
        "# normal equation\n",
        "y_train_pred1 = reg.predict(X_train)\n",
        "score1 = r2_score(y_train_pred1, y_train)\n",
        "score1"
      ],
      "metadata": {
        "colab": {
          "base_uri": "https://localhost:8080/"
        },
        "outputId": "11d360df-29a7-421b-87a5-6dad5430f4f0",
        "id": "QwIjx43XiSju"
      },
      "execution_count": 169,
      "outputs": [
        {
          "output_type": "execute_result",
          "data": {
            "text/plain": [
              "0.9997345058323925"
            ]
          },
          "metadata": {},
          "execution_count": 169
        }
      ]
    },
    {
      "cell_type": "code",
      "source": [
        "# gradient descent\n",
        "y_train_pred2 = reg_GD.predict(X_train)\n",
        "score2 = r2_score(y_train, y_train_pred2)\n",
        "score2"
      ],
      "metadata": {
        "colab": {
          "base_uri": "https://localhost:8080/"
        },
        "id": "A8SmUDMwn1K0",
        "outputId": "bd83fab6-e0d9-445a-dc3f-ae6d325c512b"
      },
      "execution_count": 170,
      "outputs": [
        {
          "output_type": "execute_result",
          "data": {
            "text/plain": [
              "0.999329229078981"
            ]
          },
          "metadata": {},
          "execution_count": 170
        }
      ]
    },
    {
      "cell_type": "code",
      "source": [
        "# difference in %\n",
        "print(\"Difference: \", round((score1 - score2) / score1, 5) * 100, \"%\")"
      ],
      "metadata": {
        "colab": {
          "base_uri": "https://localhost:8080/"
        },
        "id": "q9jMcobir6wg",
        "outputId": "e3ddb9f1-5355-45b1-a4d0-705e1e8ab9d4"
      },
      "execution_count": 171,
      "outputs": [
        {
          "output_type": "stream",
          "name": "stdout",
          "text": [
            "Difference:  0.041 %\n"
          ]
        }
      ]
    },
    {
      "cell_type": "markdown",
      "source": [
        "TESTING DATASET\n",
        "\n",
        "---\n",
        "\n"
      ],
      "metadata": {
        "id": "dqPkQ2mQscXI"
      }
    },
    {
      "cell_type": "code",
      "execution_count": 172,
      "metadata": {
        "colab": {
          "base_uri": "https://localhost:8080/"
        },
        "outputId": "3f149bcd-f83c-444b-8148-c4849b133476",
        "id": "uWTrR7GQiSju"
      },
      "outputs": [
        {
          "output_type": "execute_result",
          "data": {
            "text/plain": [
              "0.9997278150605682"
            ]
          },
          "metadata": {},
          "execution_count": 172
        }
      ],
      "source": [
        "# normal equation\n",
        "y_test_pred1 = reg.predict(X_test)\n",
        "eval1 = r2_score(y_test_pred1, y_test)\n",
        "eval1"
      ]
    },
    {
      "cell_type": "code",
      "source": [
        "# gradient descent\n",
        "y_test_pred2 = reg_GD.predict(X_test)\n",
        "eval2 = r2_score(y_test_pred2, y_test)\n",
        "eval2"
      ],
      "metadata": {
        "colab": {
          "base_uri": "https://localhost:8080/"
        },
        "id": "ezhx8nmmpSP_",
        "outputId": "77cac2e2-7e5e-40de-efa0-88c7a8842752"
      },
      "execution_count": 173,
      "outputs": [
        {
          "output_type": "execute_result",
          "data": {
            "text/plain": [
              "0.9992503025553089"
            ]
          },
          "metadata": {},
          "execution_count": 173
        }
      ]
    },
    {
      "cell_type": "code",
      "source": [
        "# difference in %\n",
        "print(\"Difference: \", round((eval1 - eval2) / score1, 5) * 100, \"%\")"
      ],
      "metadata": {
        "colab": {
          "base_uri": "https://localhost:8080/"
        },
        "id": "RN7dGUOks-ix",
        "outputId": "37c5082c-aceb-4ee4-cc5f-58c7209f2152"
      },
      "execution_count": 174,
      "outputs": [
        {
          "output_type": "stream",
          "name": "stdout",
          "text": [
            "Difference:  0.048 %\n"
          ]
        }
      ]
    }
  ],
  "metadata": {
    "colab": {
      "provenance": [],
      "collapsed_sections": [
        "fhaxyjf0yvmX",
        "g9CgxY0ph1iF",
        "lGWM0AT3h_z7"
      ]
    },
    "kernelspec": {
      "display_name": "Python 3",
      "name": "python3"
    },
    "language_info": {
      "name": "python"
    }
  },
  "nbformat": 4,
  "nbformat_minor": 0
}